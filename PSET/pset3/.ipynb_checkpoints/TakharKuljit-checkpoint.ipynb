{
 "cells": [
  {
   "cell_type": "markdown",
   "id": "b7ddb2ea",
   "metadata": {},
   "source": [
    "<div style=\"background-color: lightblue;border: 2px solid gray;\">\n",
    "    <h2 style =\"text-align:center; padding-top:5px;\"> CS 101 - Foundation of Data Science and Engineering </h2><br>\n",
    "    <p style=\"text-align:center;padding:5px; fontt-size:14px\"><b> PSET-3 - Managing Data Excercise-1<b></p> <br>\n",
    "</div>"
   ]
  },
  {
   "cell_type": "markdown",
   "id": "a9593b86",
   "metadata": {},
   "source": [
    "### This is an individual assignment. No collaboration is allowed."
   ]
  },
  {
   "cell_type": "markdown",
   "id": "e52449e8",
   "metadata": {},
   "source": [
    "### Assignment Goal: Using Python connect to MySQL, create database, tables, and Load data from csv file.\n",
    "<br><br>    \n"
   ]
  },
  {
   "cell_type": "markdown",
   "id": "a8593984",
   "metadata": {},
   "source": [
    "**Start by reviewing the provided file nj_teachers_salaries_pset3.csv. Examine the column names, data types of this data file. After reviewing this file please provide your solutions for the questions below.**\n",
    "\n",
    "**Note: For this Homework you are not required to do any data cleaning. In your next Homework you will be required to clean the data before storing it into database table. You are also not required to use pandas.**"
   ]
  },
  {
   "cell_type": "markdown",
   "id": "eb1f5fc6",
   "metadata": {},
   "source": [
    "## Question 1 (5 pts)"
   ]
  },
  {
   "cell_type": "markdown",
   "id": "4a3dc923",
   "metadata": {},
   "source": [
    "###  Connect to your MySql database using your username and password. Name the cursor returned from the mysql connection object as mycursor."
   ]
  },
  {
   "cell_type": "code",
   "execution_count": null,
   "id": "2d718941",
   "metadata": {},
   "outputs": [
    {
     "name": "stdout",
     "output_type": "stream",
     "text": [
      "Connected to MySQL database successfully!\n"
     ]
    }
   ],
   "source": [
    "# import libraries\n",
    "import mysql.connector as sq\n",
    "\n",
    "# connect to mysql \n",
    "mydb = sq.connect(\n",
    "    host=\"localhost\",       \n",
    "    user=\"cs101\",   \n",
    "    password=\"dataisfun\",\n",
    ")\n",
    "\n",
    "# create cursor\n",
    "mycursor = mydb.cursor()\n",
    "print(\"Connected to MySQL database successfully!\")"
   ]
  },
  {
   "cell_type": "markdown",
   "id": "8406df8e",
   "metadata": {},
   "source": [
    "## For Question 2-6, If you have tried running your sql statements in MySQL workbench, please make sure that the database has been dropped before executing your code here. "
   ]
  },
  {
   "cell_type": "markdown",
   "id": "3bc15660",
   "metadata": {},
   "source": [
    "## Question 2 (5 pts)"
   ]
  },
  {
   "cell_type": "markdown",
   "id": "cdf1a772",
   "metadata": {},
   "source": [
    "### Create a new database called nj_state_teachers_salaries. \n",
    "**Be sure to verify that an empty database was created in MySQL before moving to next step.** "
   ]
  },
  {
   "cell_type": "code",
   "execution_count": null,
   "id": "eac19e33",
   "metadata": {},
   "outputs": [],
   "source": [
    "# create database\n",
    "mycursor.execute(\"CREATE DATABASE IF NOT EXISTS nj_state_teachers_salaries;\")"
   ]
  },
  {
   "cell_type": "markdown",
   "id": "8b26842e",
   "metadata": {},
   "source": [
    "## Question 3 (20 pts)\n",
    "\n",
    "**Create a table called teachers_salaries. (Tables are created within a database. In this step we are asking you to create your table within the database you created in Question-2).**\n",
    "\n",
    "**Since data cleaning is not required, you may use VARCHAR or TEXT as your datatype while creating your table. In your next assignment you will be required to use appropriate data type for each column**\n",
    "\n",
    "**Be sure to verify that the table was created in MySQL before moving to next step.** \n",
    "\n"
   ]
  },
  {
   "cell_type": "code",
   "execution_count": null,
   "id": "cd63411d",
   "metadata": {},
   "outputs": [
    {
     "name": "stdout",
     "output_type": "stream",
     "text": [
      "Table 'teachers_salaries' created or already exists.\n"
     ]
    }
   ],
   "source": [
    "# define database and table name\n",
    "db_name = \"nj_state_teachers_salaries\"\n",
    "table_name = \"teachers_salaries\"\n",
    "\n",
    "# select database\n",
    "mycursor.execute(f\"USE {db_name};\")\n",
    "\n",
    "# create table\n",
    "create_table_query = f\"\"\"\n",
    "CREATE TABLE IF NOT EXISTS {table_name} (\n",
    "    id INT AUTO_INCREMENT PRIMARY KEY,\n",
    "    last_name VARCHAR(255),\n",
    "    first_name VARCHAR(255),\n",
    "    county VARCHAR(255),\n",
    "    district VARCHAR(255),\n",
    "    school VARCHAR(255),\n",
    "    primary_job VARCHAR(255),\n",
    "    fte FLOAT,\n",
    "    salary INT,\n",
    "    certificate VARCHAR(255),\n",
    "    subcategory VARCHAR(255),\n",
    "    teaching_route VARCHAR(255),\n",
    "    highly_qualified VARCHAR(255),\n",
    "    experience_district INT,\n",
    "    experience_nj INT,\n",
    "    experience_total INT\n",
    ");\n",
    "\"\"\"\n",
    "\n",
    "# execute query\n",
    "mycursor.execute(create_table_query)\n",
    "print(f\"Table '{table_name}' created or already exists.\")"
   ]
  },
  {
   "cell_type": "markdown",
   "id": "9ed089e0",
   "metadata": {},
   "source": [
    "## Question 4 (30 pts)\n",
    "\n",
    "**Using LOAD DATA statement (as discussed in Module 4 lectures) load the data from nj_teachers_salaries_pset3.csv to your table created in Question-3. Use of OPTIONALLY ENCLOSED BY  clause , TERMINATED BY clause and ESCAPED BY clause is recommended.** <br>\n",
    "\n",
    "\n",
    "**You will find Module 4 lectures helpful for this part, as well as the additional resources under module 4 on configuring your system to allow MYSQL file upload.**<br><br> \n",
    "\n"
   ]
  },
  {
   "cell_type": "code",
   "execution_count": null,
   "id": "8cdaafc8",
   "metadata": {},
   "outputs": [
    {
     "name": "stdout",
     "output_type": "stream",
     "text": [
      "Successfully loaded data from /tmp/nj_teachers_salaries_pset3.csv into teachers_salaries.\n"
     ]
    }
   ],
   "source": [
    "# define path to csv file \n",
    "csv_file_path = '/var/lib/mysql-files/nj_teachers_salaries_pset3.csv'\n",
    "\n",
    "# load data from csv into table\n",
    "load_data_query = f\"\"\"\n",
    "LOAD DATA INFILE '{csv_file_path}'\n",
    "INTO TABLE {table_name}\n",
    "FIELDS TERMINATED BY ',' \n",
    "OPTIONALLY ENCLOSED BY '\"' \n",
    "LINES TERMINATED BY '\\n'\n",
    "IGNORE 1 ROWS\n",
    "(last_name, first_name, county, district, school, primary_job,\n",
    "fte, salary, certificate, subcategory, teaching_route,\n",
    "highly_qualified, experience_district, experience_nj, experience_total);\n",
    "\"\"\"\n",
    "\n",
    "# execute query\n",
    "try:\n",
    "    mycursor.execute(load_data_query)\n",
    "    mydb.commit()\n",
    "    print(f\"Successfully loaded data from {csv_file_path} into {table_name}.\")\n",
    "except sq.Error as err:\n",
    "    print(f\"MySQL Error: {err}\")\n",
    "\n",
    "# close connection\n",
    "finally:\n",
    "    mycursor.close()\n",
    "    mydb.close()"
   ]
  },
  {
   "cell_type": "code",
   "execution_count": null,
   "id": "4c9229a4",
   "metadata": {},
   "outputs": [],
   "source": []
  },
  {
   "cell_type": "markdown",
   "id": "89043b58",
   "metadata": {},
   "source": [
    "### Question 5-6 - For these questions you are only required to run the cells. To get credit  your code from Question 1-4 must have been successfully run, and executed. All your data should be loaded in the previous step. No credit will be awarded if data was loaded using MySQL workbench. "
   ]
  },
  {
   "cell_type": "markdown",
   "id": "b1f85f4c",
   "metadata": {},
   "source": [
    "## Question 5 (15 pts)\n",
    "\n",
    "Run the cell below. The code checks if all the data rows were stored in the database. \n",
    "\n",
    "The code below assumes that you named your cursor object as mycursor(As specified in Question-1). If you named it differently, you can rename mycursor to match the variable name.\n",
    "\n"
   ]
  },
  {
   "cell_type": "code",
   "execution_count": 35,
   "id": "07007e3e",
   "metadata": {
    "scrolled": true
   },
   "outputs": [
    {
     "name": "stdout",
     "output_type": "stream",
     "text": [
      "Number of rows in teachers_salaries table : 100003\n"
     ]
    }
   ],
   "source": [
    "cmd = \"select count(*) from \\\n",
    "                 nj_state_teachers_salaries.teachers_salaries\"\n",
    "mycursor.execute(cmd)\n",
    "count = mycursor.fetchone()[0]\n",
    "\n",
    "print(f\"Number of rows in teachers_salaries table : {count}\")\n",
    "\n",
    "# returns 100003 rows"
   ]
  },
  {
   "cell_type": "markdown",
   "id": "d4125272",
   "metadata": {},
   "source": [
    "## Question 6 (5 pts)\n",
    "\n",
    "Run the cell below. The code checks if all the data columns were stored in the database. "
   ]
  },
  {
   "cell_type": "code",
   "execution_count": 37,
   "id": "8b95bbcf",
   "metadata": {},
   "outputs": [
    {
     "name": "stdout",
     "output_type": "stream",
     "text": [
      "Number of columns in teachers_salaries table : 16\n"
     ]
    }
   ],
   "source": [
    "cmd = \"\"\"SELECT COUNT(*) \\\n",
    "                FROM INFORMATION_SCHEMA.COLUMNS \\\n",
    "                WHERE table_schema = 'nj_state_teachers_salaries' \\\n",
    "                AND table_name = 'teachers_salaries'\"\"\"\n",
    "mycursor.execute(cmd)\n",
    "count = mycursor.fetchone()[0]\n",
    "print(f\"Number of columns in teachers_salaries table : {count}\")"
   ]
  },
  {
   "cell_type": "markdown",
   "id": "2c604b94",
   "metadata": {},
   "source": [
    "## Question 7 (20 pts)\n",
    "\n",
    "\n",
    "<br><br>**Submit a pdf report with the following information:**\n",
    "\n",
    "**1. Describe the challenges you encountered in loading the data and how did you solve the issues you encountered.**\n",
    "\n",
    "\n",
    "**2. Add OPTIONALLY ENCLOSED BY ',' in your SQL command when loading the data from the CSV file to the MySQL database. Did you observe any differences with and without it?**\n",
    "\n",
    "\n",
    "**3. Add OPTIONALLY ENCLOSED BY '\"' in your SQL command when loading the data from the CSV file to the MySQL database. Did you observe any differences with and without it?**\n",
    "\n",
    "**4. Add ESCAPED BY `'\\\\'` in your SQL command when loading the data from the CSV file to the MySQL database. Did you observe any differences with and without it?**\n",
    "\n",
    "\n",
    "**Answers need to be in complete sentences. Please be sure to explain briefly what OPTIONALLY ENCLOSED BY ',', OPTIONALLY ENCLOSED BY '\"'and  ESCAPED BY `'\\\\'` does. This file should be one-page max.**\n",
    "\n",
    " \n",
    "\n",
    "\n"
   ]
  },
  {
   "cell_type": "code",
   "execution_count": null,
   "id": "852dff0a",
   "metadata": {},
   "outputs": [],
   "source": []
  },
  {
   "cell_type": "markdown",
   "id": "b028069e",
   "metadata": {},
   "source": [
    "## Submission on Gradescope\n",
    "\n",
    "On canvas left menu -> click on Gradescope\n",
    "\n",
    "\n",
    "Submit the jupyter notebook, a pdf report for question 7, and a pdf version of this notebook.\n",
    "\n",
    "To create a pdf of this notebook :  In your browser open print, and save as pdf. Name the pdf LastNameFirstName_pset3.pdf\n",
    "example: DoeJohn_pset3.pdf\n",
    "\n",
    "Name this jupyter notebook with the same format LastNameFirstName.ipynb\n",
    "\n",
    "You can name your report LastNameFirstName_report.pdf\n",
    "\n",
    "\n",
    "Make sure that your notebook has been run before creating pdf. Any outputs from running the code needs to be clearly visible. We need both .ipynb, and pdf of this notebook to assign you grades. \n",
    "\n",
    "Drop all the files in gradescope under PSET 3: Managing Data Exercise 1.\n"
   ]
  },
  {
   "cell_type": "code",
   "execution_count": null,
   "id": "2c7a3616",
   "metadata": {},
   "outputs": [],
   "source": []
  }
 ],
 "metadata": {
  "kernelspec": {
   "display_name": "Python [conda env:base] *",
   "language": "python",
   "name": "conda-base-py"
  },
  "language_info": {
   "codemirror_mode": {
    "name": "ipython",
    "version": 3
   },
   "file_extension": ".py",
   "mimetype": "text/x-python",
   "name": "python",
   "nbconvert_exporter": "python",
   "pygments_lexer": "ipython3",
   "version": "3.12.7"
  }
 },
 "nbformat": 4,
 "nbformat_minor": 5
}
