{
 "cells": [
  {
   "cell_type": "markdown",
   "id": "09067505",
   "metadata": {},
   "source": [
    "# PSET 8: T-Tests and ANOVA\n",
    "This notebook analyzes customer feedback and sales data using various statistical methods."
   ]
  },
  {
   "cell_type": "code",
   "execution_count": 2,
   "id": "abf17d17",
   "metadata": {},
   "outputs": [],
   "source": [
    "import pandas as pd\n",
    "import numpy as np\n",
    "from scipy import stats\n",
    "\n",
    "\n",
    "df_feedback = pd.read_csv(\"customer_feedback.csv\")\n",
    "df_sales = pd.read_csv(\"sales_data.csv\")\n",
    "df_feedback['date'] = pd.to_datetime(df_feedback['date'])\n",
    "df_sales['date'] = pd.to_datetime(df_sales['date'])"
   ]
  },
  {
   "cell_type": "markdown",
   "id": "66bbc305",
   "metadata": {},
   "source": [
    "## 1. Feedback Analysis\n",
    "Compare customer satisfaction between iOS and Android users."
   ]
  },
  {
   "cell_type": "code",
   "execution_count": 5,
   "id": "c25e0c5b",
   "metadata": {},
   "outputs": [
    {
     "data": {
      "text/plain": [
       "(1.9033888211703986, 0.05756609365982318)"
      ]
     },
     "execution_count": 5,
     "metadata": {},
     "output_type": "execute_result"
    }
   ],
   "source": [
    "\n",
    "ios_scores = df_feedback[df_feedback['product'] == 'iOS']['feedback_score'].to_numpy()\n",
    "android_scores = df_feedback[df_feedback['product'] == 'Android']['feedback_score'].to_numpy()\n",
    "\n",
    "std_ios = np.std(ios_scores, ddof=1)\n",
    "std_android = np.std(android_scores, ddof=1)\n",
    "equal_var = np.isclose(std_ios, std_android, rtol=0.1)\n",
    "\n",
    "t_stat, p_val = stats.ttest_ind(ios_scores, android_scores, equal_var=equal_var)\n",
    "t_stat, p_val"
   ]
  },
  {
   "cell_type": "markdown",
   "id": "d6f7995d",
   "metadata": {},
   "source": [
    "**Interpretation:** The p-value is 0.0576, which is greater than 0.05. Thus, there is no statistically significant difference in customer satisfaction between iOS and Android users."
   ]
  },
  {
   "cell_type": "markdown",
   "id": "0f154153",
   "metadata": {},
   "source": [
    "## 2. Sales Campaign Analysis\n",
    "Compare sales before and after the March 2023 campaign."
   ]
  },
  {
   "cell_type": "code",
   "execution_count": 9,
   "id": "b4b18c15",
   "metadata": {},
   "outputs": [
    {
     "data": {
      "text/plain": [
       "(0.27045080178405995, 0.7870335279675489)"
      ]
     },
     "execution_count": 9,
     "metadata": {},
     "output_type": "execute_result"
    }
   ],
   "source": [
    "\n",
    "before = df_sales[df_sales['date'] < '2023-03-01']['sales'].to_numpy()\n",
    "after = df_sales[df_sales['date'] >= '2023-03-01']['sales'].to_numpy()\n",
    "\n",
    "t_stat, p_val = stats.ttest_ind(before, after, equal_var=np.isclose(np.std(before, ddof=1), np.std(after, ddof=1), rtol=0.1))\n",
    "t_stat, p_val\n"
   ]
  },
  {
   "cell_type": "markdown",
   "id": "bf4010c2",
   "metadata": {},
   "source": [
    "**Interpretation:** The p-value is 0.787, which indicates no significant impact of the campaign."
   ]
  },
  {
   "cell_type": "markdown",
   "id": "8e5b0091",
   "metadata": {},
   "source": [
    "## 3. Seasonal Sales Analysis\n",
    "Compare summer (Jun-Aug) vs. winter (Dec-Feb) sales."
   ]
  },
  {
   "cell_type": "code",
   "execution_count": 13,
   "id": "574e3644",
   "metadata": {},
   "outputs": [
    {
     "data": {
      "text/plain": [
       "(0.09956961638905915, 0.9207644588060664)"
      ]
     },
     "execution_count": 13,
     "metadata": {},
     "output_type": "execute_result"
    }
   ],
   "source": [
    "\n",
    "summer = df_sales[df_sales['date'].dt.month.isin([6, 7, 8])]['sales'].to_numpy()\n",
    "winter = df_sales[df_sales['date'].dt.month.isin([12, 1, 2])]['sales'].to_numpy()\n",
    "\n",
    "t_stat, p_val = stats.ttest_ind(summer, winter, equal_var=np.isclose(np.std(summer, ddof=1), np.std(winter, ddof=1), rtol=0.1))\n",
    "t_stat, p_val\n"
   ]
  },
  {
   "cell_type": "markdown",
   "id": "1a5d07f2",
   "metadata": {},
   "source": [
    "**Interpretation:** The p-value is 0.921, showing no seasonal difference in sales."
   ]
  },
  {
   "cell_type": "markdown",
   "id": "471a8de8",
   "metadata": {},
   "source": [
    "## 4. Feedback Consistency (ANOVA)\n",
    "Test if feedback scores differ across Jan, May, Sep, Dec."
   ]
  },
  {
   "cell_type": "code",
   "execution_count": 17,
   "id": "2a07ca6d",
   "metadata": {},
   "outputs": [
    {
     "data": {
      "text/plain": [
       "(0.3146823675455494, 0.8147473590881886)"
      ]
     },
     "execution_count": 17,
     "metadata": {},
     "output_type": "execute_result"
    }
   ],
   "source": [
    "\n",
    "months = [1, 5, 9, 12]\n",
    "feedback_groups = [df_feedback[df_feedback['date'].dt.month == m]['feedback_score'].to_numpy() for m in months]\n",
    "\n",
    "f_stat, p_val = stats.f_oneway(*feedback_groups)\n",
    "f_stat, p_val\n"
   ]
  },
  {
   "cell_type": "markdown",
   "id": "c52df234",
   "metadata": {},
   "source": [
    "**Interpretation:** The p-value is 0.815, indicating no significant variation across months."
   ]
  },
  {
   "cell_type": "markdown",
   "id": "7f4ffea0",
   "metadata": {},
   "source": [
    "## 5. Feedback and Sales Correlation\n",
    "Test if high feedback months have higher sales."
   ]
  },
  {
   "cell_type": "code",
   "execution_count": 21,
   "id": "88ba411c",
   "metadata": {},
   "outputs": [
    {
     "data": {
      "text/plain": [
       "(-1.275671553542551, 0.22835205852512985)"
      ]
     },
     "execution_count": 21,
     "metadata": {},
     "output_type": "execute_result"
    }
   ],
   "source": [
    "\n",
    "df_feedback['month'] = df_feedback['date'].dt.to_period('M')\n",
    "df_sales['month'] = df_sales['date'].dt.to_period('M')\n",
    "\n",
    "avg_feedback = df_feedback.groupby('month')['feedback_score'].mean().reset_index()\n",
    "monthly_sales = df_sales.groupby('month')['sales'].sum().reset_index()\n",
    "\n",
    "merged = pd.merge(avg_feedback, monthly_sales, on='month')\n",
    "high = merged[merged['feedback_score'] >= merged['feedback_score'].median()]['sales'].to_numpy()\n",
    "low = merged[merged['feedback_score'] < merged['feedback_score'].median()]['sales'].to_numpy()\n",
    "\n",
    "t_stat, p_val = stats.ttest_ind(high, low, equal_var=np.isclose(np.std(high, ddof=1), np.std(low, ddof=1), rtol=0.1))\n",
    "t_stat, p_val\n"
   ]
  },
  {
   "cell_type": "markdown",
   "id": "5cbe8c23",
   "metadata": {},
   "source": [
    "**Interpretation:** The p-value is 0.228. No strong evidence of correlation between feedback and sales."
   ]
  },
  {
   "cell_type": "code",
   "execution_count": null,
   "id": "0748ede0-bb21-4387-a2a8-a0561cdb9a8e",
   "metadata": {},
   "outputs": [],
   "source": []
  },
  {
   "cell_type": "code",
   "execution_count": null,
   "id": "59d13391-dbaa-4948-8bc1-5252a1cafd80",
   "metadata": {},
   "outputs": [],
   "source": []
  },
  {
   "cell_type": "code",
   "execution_count": null,
   "id": "25192cf5-6c56-419d-a569-7a52edd940ce",
   "metadata": {},
   "outputs": [],
   "source": []
  },
  {
   "cell_type": "code",
   "execution_count": null,
   "id": "4923225c-1962-4d1e-bbd5-624737c9402c",
   "metadata": {},
   "outputs": [],
   "source": []
  },
  {
   "cell_type": "code",
   "execution_count": null,
   "id": "fdb6980b-2e11-45f5-9bd5-cd650a9fa8ce",
   "metadata": {},
   "outputs": [],
   "source": []
  },
  {
   "cell_type": "code",
   "execution_count": null,
   "id": "fccd72c6-d185-4b37-a43f-feadad55d9e8",
   "metadata": {},
   "outputs": [],
   "source": []
  }
 ],
 "metadata": {
  "kernelspec": {
   "display_name": "Python [conda env:base] *",
   "language": "python",
   "name": "conda-base-py"
  },
  "language_info": {
   "codemirror_mode": {
    "name": "ipython",
    "version": 3
   },
   "file_extension": ".py",
   "mimetype": "text/x-python",
   "name": "python",
   "nbconvert_exporter": "python",
   "pygments_lexer": "ipython3",
   "version": "3.12.7"
  }
 },
 "nbformat": 4,
 "nbformat_minor": 5
}
