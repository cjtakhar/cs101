{
 "cells": [
  {
   "cell_type": "markdown",
   "id": "9479d6a7",
   "metadata": {},
   "source": [
    "<div style=\"font-size:16px; background-color: lightblue;border: 2px solid gray;\">\n",
    "    <h2 style =\"text-align:left; padding-top:5px;\"> CS 101 - Foundation of Data Science and Engineering </h2>\n",
    "    <p><b> PSET-7 - Object Oriented Programming\n",
    "    \n",
    "<b></p> <br>\n",
    "</div>\n",
    "        "
   ]
  },
  {
   "cell_type": "markdown",
   "id": "2d4240e0-d4d0-4ab7-8687-a9bae49fb126",
   "metadata": {},
   "source": [
    "### Objective:\n",
    " \n",
    "**In this assignment you will be working with Class, Objects and Inheritance that was discussed in the class.** "
   ]
  },
  {
   "cell_type": "markdown",
   "id": "bcd33037",
   "metadata": {},
   "source": [
    "### This is an individual assignment. No collaboration is allowed!"
   ]
  },
  {
   "cell_type": "markdown",
   "id": "0148bfe2",
   "metadata": {},
   "source": [
    "## DataAnalyzer for Student Projects"
   ]
  },
  {
   "cell_type": "markdown",
   "id": "f728a42d",
   "metadata": {},
   "source": [
    "**As a data science student, you are tasked with analyzing project data for a research lab. The lab wants to track the progress and results of various student projects to optimize resource allocation and promote effective study habits. Your program will need to manage project data and calculate statistics based on this data.**"
   ]
  },
  {
   "cell_type": "markdown",
   "id": "0d82b0f8",
   "metadata": {},
   "source": [
    "### Question 1: (5 pts)\n",
    "**Create a class called Student with the following attributes**\n",
    "\n",
    "**1.student_id**: a unique identifier for the student as an integer\n",
    "\n",
    "**2.major**: the student's major as a string (e.g., \"Computer Science\", \"Data Science\")\n",
    "\n",
    "**3.university**: the name of the university (e.g., \"Harvard\", \"MIT\", \"Other\")"
   ]
  },
  {
   "cell_type": "markdown",
   "id": "62c70b7b-c295-4c52-ab4d-e00afaf90f21",
   "metadata": {},
   "source": [
    "**Please be sure to include a constructor that can initialize the class with the above attributes. Assume inputs passed to your class will always be correct i.e. you are not required to check types, and verify uppercase or lower case.** "
   ]
  },
  {
   "cell_type": "code",
   "execution_count": 2,
   "id": "a314a986",
   "metadata": {},
   "outputs": [],
   "source": [
    "class Student:\n",
    "    def __init__(self, student_id, major, university):\n",
    "        self.student_id = student_id\n",
    "        self.major = major\n",
    "        self.university = university"
   ]
  },
  {
   "cell_type": "markdown",
   "id": "7ee86523-5092-431c-8112-686e2c7cb6ba",
   "metadata": {},
   "source": [
    "###  Question 2: (50 pts) "
   ]
  },
  {
   "cell_type": "markdown",
   "id": "22f08712-4f46-47b3-9be5-f7cd9910e84b",
   "metadata": {},
   "source": [
    "**Create a class called Project which is a subclass of Student with the following attributes and methods.**"
   ]
  },
  {
   "cell_type": "markdown",
   "id": "2bb9e1bc-169c-4fa5-b533-83b6eac0d187",
   "metadata": {},
   "source": [
    "### Attributes (5 points) :"
   ]
  },
  {
   "cell_type": "markdown",
   "id": "d14778d9-62db-4e00-882f-bf3be357c155",
   "metadata": {},
   "source": [
    "**Public attributes :**"
   ]
  },
  {
   "cell_type": "markdown",
   "id": "cadfe11d-9139-46fb-a2a5-36d39fee063f",
   "metadata": {},
   "source": [
    "**1. project_id: a unique identifier for the project as an integer**"
   ]
  },
  {
   "cell_type": "markdown",
   "id": "395598b2-f97a-40ea-8ddb-ca2a90408486",
   "metadata": {},
   "source": [
    "**2. data_points: a list of numerical values collected from the project**"
   ]
  },
  {
   "cell_type": "markdown",
   "id": "c776b633-b45d-4607-b653-1cfe4ce89ad0",
   "metadata": {},
   "source": [
    "**Private attributes : (In python private members are stored by adding 2 underscores in front of the name of the variable. Example: analysis_results should be declared as __analysis_results)**"
   ]
  },
  {
   "cell_type": "markdown",
   "id": "4e1d5ebe-4e89-48a1-9ec0-593d23edbf59",
   "metadata": {},
   "source": [
    "**3. analysis_results : a dictionary to store results of various analysis**"
   ]
  },
  {
   "cell_type": "markdown",
   "id": "4ecd2ed1-4064-4094-aaae-8e1d54fe5ea8",
   "metadata": {},
   "source": [
    "**4. active : a boolean indicating if the project is currently active (default is True)**"
   ]
  },
  {
   "cell_type": "markdown",
   "id": "4661e4be-608f-4a41-a1ac-ccf20ff095f8",
   "metadata": {},
   "source": [
    "### Methods 1-4(15 points) :"
   ]
  },
  {
   "cell_type": "markdown",
   "id": "a905e887-ed0b-4424-85c7-d5c033190e82",
   "metadata": {},
   "source": [
    "**1. add_data(self, new_data): Appends a new data point to the data_points list.**"
   ]
  },
  {
   "cell_type": "markdown",
   "id": "3b3892b2-0ae4-45c5-8f69-e4447dc7d64a",
   "metadata": {},
   "source": [
    "**2. get_results(self): Returns the analysis_results dictionary**"
   ]
  },
  {
   "cell_type": "markdown",
   "id": "7931fa4a-e0f8-43d9-baec-7de927bcd106",
   "metadata": {},
   "source": [
    "**3. is_active(self): Returns the status of the active attribute.**"
   ]
  },
  {
   "cell_type": "markdown",
   "id": "71388eb3-747a-42f3-be3b-15ec44e8c8c4",
   "metadata": {},
   "source": [
    "**4. set_active(self,status): Sets the status of the active attribute (True/False).**"
   ]
  },
  {
   "cell_type": "markdown",
   "id": "d2186f34-7364-4749-b0c5-99a49ce8ba5c",
   "metadata": {},
   "source": [
    "**5. perform_analysis(self): Analyzes data_points to calculate and store/update analysis_results with statistical results (mean, median, variance). (20 pts)**\n",
    "\n",
    "**Notes for perform_analysis:** \n",
    "    \n",
    "**1. The method should only store the mean, median, and variance in analysis_results dictionary.It should not return the   analysis_results.** \n",
    "    \n",
    "**2. Use the sample formula to calculate variance.**\n",
    "       \n",
    "**3. Use of inbuilt methods is not allowed for calculation of mean, median and variance**\n",
    "\n",
    "**4. Please do not omit the decimal points for each of the statistic calculated.**\n",
    "\n",
    "\n",
    "\n",
    "\n",
    "\n",
    "\n",
    "\n"
   ]
  },
  {
   "cell_type": "markdown",
   "id": "d0afa087-a3cc-4749-9c35-2ba3012b4e41",
   "metadata": {},
   "source": [
    "**Exception Handling :(10 points)**\n",
    "\n",
    "**1. Implement a mechanism to handle incorrect data type. At the minimum you should check all the data in the list are numerical in the constructor, and check if new data point being added is of numerical type. Raise an error if you encounter list that have non-numerical values and if non-numerical values are being added to the list.\n",
    "https://docs.python.org/3/library/exceptions.html#TypeError (5 pts)**\n",
    "\n",
    "\n",
    "\n",
    "**2. In your perform_analysis method use try-except to catch errors resulting from ZeroDivisionError if the list is empty.  You should print a friendly text if you encounter such error in perform_analysis method, i.e. do not raise an error. (5 points)**"
   ]
  },
  {
   "cell_type": "markdown",
   "id": "5ccfd4a6-091d-4951-8ba3-96794f6c7e3a",
   "metadata": {},
   "source": [
    "**Note: Please see Question 3 for order of parameters being passed to the constructor in the example**"
   ]
  },
  {
   "cell_type": "code",
   "execution_count": 159,
   "id": "db29140b-50a4-46c4-a77e-6aed00bb5068",
   "metadata": {},
   "outputs": [],
   "source": [
    "class Project(Student):\n",
    "    def __init__(self, student_id, major, university, project_id, data_points):\n",
    "        super().__init__(student_id, major, university)\n",
    "        self.project_id = project_id\n",
    "\n",
    "        if not all(isinstance(x, (int, float)) for x in data_points):\n",
    "            raise TypeError(\"All data points must be numerical values (int or float).\")\n",
    "\n",
    "        self.data_points = data_points\n",
    "        self.__analysis_results = {}\n",
    "        self.active = True\n",
    "\n",
    "    def perform_analysis(self):\n",
    "        try:\n",
    "            avg = sum(self.data_points) / len(self.data_points)\n",
    "            self.__analysis_results = {\n",
    "                \"min\": min(self.data_points),\n",
    "                \"max\": max(self.data_points),\n",
    "                \"avg\": avg\n",
    "            }\n",
    "        except ZeroDivisionError:\n",
    "            print(\"Cannot perform analysis: No data points available.\")\n",
    "\n",
    "    def get_results(self):\n",
    "        return self.__analysis_results\n",
    "\n",
    "    def is_active(self):\n",
    "        return self.active and len(self.data_points) > 0\n",
    "\n",
    "    def set_active(self, value):\n",
    "        if not isinstance(value, bool):\n",
    "            raise TypeError(\"Active status must be a boolean value.\")\n",
    "        self.active = value\n",
    "\n",
    "    def add_data(self, value):\n",
    "        if not isinstance(value, (int, float)):\n",
    "            raise TypeError(\"New data point must be a numerical value.\")\n",
    "        self.data_points.append(value)"
   ]
  },
  {
   "cell_type": "code",
   "execution_count": 161,
   "id": "bb61d4f7-c20b-4227-ad26-3a1c3c8e712d",
   "metadata": {},
   "outputs": [
    {
     "name": "stdout",
     "output_type": "stream",
     "text": [
      "Project ID: 5678\n",
      "Data Points: [85, 90, 95, 100]\n",
      "Student Major: Data Science\n"
     ]
    }
   ],
   "source": [
    "#TEST PROJECT \n",
    "# Create a Project instance\n",
    "project1 = Project(\n",
    "    student_id=1234,\n",
    "    major=\"Data Science\",\n",
    "    university=\"Harvard\",\n",
    "    project_id=5678,\n",
    "    data_points=[85, 90, 95, 100]\n",
    ")\n",
    "\n",
    "print(f\"Project ID: {project1.project_id}\")\n",
    "print(f\"Data Points: {project1.data_points}\")\n",
    "print(f\"Student Major: {project1.major}\")\n"
   ]
  },
  {
   "cell_type": "markdown",
   "id": "509b030a",
   "metadata": {},
   "source": [
    "#### Question-3 - Testing your code (5 pts)\n",
    "**Write at least 5 test cases to test different parts of your implementation. We have provided an example. You will get full points as long as you have 5 test cases and a description of what is being tested. Please be sure to include at lease 2 test cases for perform_analyis method which should include at least one test case for checking exceptions. You are welcome to write your test cases using python unit test library. However, it is not required.**"
   ]
  },
  {
   "cell_type": "code",
   "execution_count": 164,
   "id": "07d57365-3c20-4d85-b192-07754d5dabdb",
   "metadata": {},
   "outputs": [
    {
     "name": "stdout",
     "output_type": "stream",
     "text": [
      "Student id is : 1001\n",
      "Major: Data Science\n",
      "University:Harvard\n"
     ]
    }
   ],
   "source": [
    "#Example 1- Test Student Class constructor with student_id 1001, major \"Data Science, and university Harvard\"\n",
    "\n",
    "john = Student(1001, \"Data Science\", \"Harvard\")\n",
    "print(f\"Student id is : {john.student_id}\\nMajor: {john.major}\\nUniversity:{john.university}\")\n",
    "\n"
   ]
  },
  {
   "cell_type": "code",
   "execution_count": 166,
   "id": "7af7127e-ae3d-47aa-b0f6-35b9b64448c6",
   "metadata": {},
   "outputs": [
    {
     "name": "stdout",
     "output_type": "stream",
     "text": [
      "Student id is : 1001\n",
      "Major: Data Science\n",
      "University:Harvard\n",
      "project_id:1\n",
      "data_points : [65, 75, 95, 99]\n",
      "is_active:True\n"
     ]
    }
   ],
   "source": [
    "#Example 2- Test Project Class constructor with student_id 1001, major \"Data Science, university Harvard, project_id 1, \n",
    "#data_points [65,75,95,99]\"\n",
    "\n",
    "my_project = Project(1001, \"Data Science\", \"Harvard\", 1, [65,75,95,99])\n",
    "print(f\"Student id is : {my_project.student_id}\\nMajor: {my_project.major}\\nUniversity:{my_project.university}\\n\\\n",
    "project_id:{my_project.project_id}\\ndata_points : {my_project.data_points}\\nis_active:{my_project.is_active()}\" )\n"
   ]
  },
  {
   "cell_type": "code",
   "execution_count": 168,
   "id": "6baae78b-7a84-4e65-97ce-fe4017e1ccd7",
   "metadata": {},
   "outputs": [
    {
     "name": "stdout",
     "output_type": "stream",
     "text": [
      "Test 1: Student Class Constructor\n",
      "Student id is : 1001\n",
      "Major: Data Science\n",
      "University: Harvard\n"
     ]
    }
   ],
   "source": [
    "#Test 1: Student Class Constructor \n",
    "print(\"Test 1: Student Class Constructor\")\n",
    "john = Student(1001, \"Data Science\", \"Harvard\")\n",
    "print(f\"Student id is : {john.student_id}\\nMajor: {john.major}\\nUniversity: {john.university}\")\n"
   ]
  },
  {
   "cell_type": "code",
   "execution_count": 170,
   "id": "0d46c359-44ba-46ba-9fcd-3db0a6d48b73",
   "metadata": {},
   "outputs": [
    {
     "name": "stdout",
     "output_type": "stream",
     "text": [
      "\n",
      "Test 2: Project Class Constructor\n",
      "Student id is : 1001\n",
      "Major: Data Science\n",
      "University:Harvard\n",
      "project_id:1\n",
      "data_points : [65, 75, 95, 99]\n",
      "is_active:True\n"
     ]
    }
   ],
   "source": [
    "#Test 2: Project Class Constructor\n",
    "print(\"\\nTest 2: Project Class Constructor\")\n",
    "my_project = Project(1001, \"Data Science\", \"Harvard\", 1, [65, 75, 95, 99])\n",
    "print(f\"Student id is : {my_project.student_id}\\nMajor: {my_project.major}\\nUniversity:{my_project.university}\\n\"\n",
    "      f\"project_id:{my_project.project_id}\\ndata_points : {my_project.data_points}\\nis_active:{my_project.is_active()}\")\n"
   ]
  },
  {
   "cell_type": "code",
   "execution_count": 172,
   "id": "e6f87432-ea3e-4eb3-b63d-88b06035e7af",
   "metadata": {},
   "outputs": [
    {
     "name": "stdout",
     "output_type": "stream",
     "text": [
      "\n",
      "Test 3: perform_analysis with valid data\n",
      "Analysis Results: None\n"
     ]
    }
   ],
   "source": [
    "#Test 3: perform_analysis with valid data\n",
    "print(\"\\nTest 3: perform_analysis with valid data\")\n",
    "result = my_project.perform_analysis()\n",
    "print(\"Analysis Results:\", result)\n"
   ]
  },
  {
   "cell_type": "code",
   "execution_count": 174,
   "id": "306452e0-6f6a-4627-9bdb-8d7a9a21e8cf",
   "metadata": {},
   "outputs": [
    {
     "name": "stdout",
     "output_type": "stream",
     "text": [
      "\n",
      "Test 4: perform_analysis with empty data\n",
      "Cannot perform analysis: No data points available.\n"
     ]
    }
   ],
   "source": [
    "#Test 4: perform_analysis with empty data (Exception Handling)\n",
    "print(\"\\nTest 4: perform_analysis with empty data\")\n",
    "empty_project = Project(1002, \"Computer Science\", \"MIT\", 2, [])\n",
    "try:\n",
    "    empty_project.perform_analysis()\n",
    "except ValueError as e:\n",
    "    print(\"Caught expected exception:\", e)"
   ]
  },
  {
   "cell_type": "code",
   "execution_count": 176,
   "id": "0fa3228b",
   "metadata": {},
   "outputs": [
    {
     "name": "stdout",
     "output_type": "stream",
     "text": [
      "\n",
      "Test 5: perform_analysis with one data point\n",
      "Analysis Results (single point): None\n"
     ]
    }
   ],
   "source": [
    "#Test 5: perform_analysis with single data point\n",
    "print(\"\\nTest 5: perform_analysis with one data point\")\n",
    "single_data_project = Project(1003, \"AI\", \"Stanford\", 3, [100])\n",
    "result = single_data_project.perform_analysis()\n",
    "print(\"Analysis Results (single point):\", result)"
   ]
  },
  {
   "cell_type": "markdown",
   "id": "a58268e0-cf40-4d7e-92a8-70f4d39542d0",
   "metadata": {},
   "source": [
    "### Question 4-9 (30 points)\n",
    "**Absolute Tests - For Question 4-9 simply run the cell below. We will verify your output with expected outputs.\n",
    "You implementation should be based on the requirement and not these test cases. If you have implemented the requirement correctly, your output should be as expected. Your implementation should be correct to get full credit here. Please do not modify the code for question 4-9**"
   ]
  },
  {
   "cell_type": "markdown",
   "id": "92e49b28-6cf1-4b21-9f3d-0a85cba5b79b",
   "metadata": {},
   "source": [
    "### Question 4: Tests Class and Objects are created, and perform_analysis yields results as expected. (10 pts) "
   ]
  },
  {
   "cell_type": "code",
   "execution_count": 180,
   "id": "148ee7a5-9e94-49e9-954a-6597099d2b1a",
   "metadata": {},
   "outputs": [
    {
     "name": "stdout",
     "output_type": "stream",
     "text": [
      "Student id : 1000\n",
      "Major: Computer Science\n",
      "University:HARVARD\n",
      "project_id:1\n",
      "data_points : [65, 75, 95, 99]\n",
      "is_active:True\n",
      "analysis results :{'min': 65, 'max': 99, 'avg': 83.5}\n",
      "\n",
      "Student id : 1001\n",
      "Major: Computer Science\n",
      "University:MIT\n",
      "project_id:2\n",
      "data_points : [95, 35, 75, 90, 91]\n",
      "is_active:True\n",
      "analysis results :{'min': 35, 'max': 95, 'avg': 77.2}\n",
      "\n",
      "Student id : 1003\n",
      "Major: Data Science\n",
      "University:Cornell\n",
      "project_id:3\n",
      "data_points : [75, 85, 95, 99, 33]\n",
      "is_active:True\n",
      "analysis results :{'min': 33, 'max': 99, 'avg': 77.4}\n",
      "\n"
     ]
    }
   ],
   "source": [
    "test1 = [(1000, 'Computer Science', 'HARVARD', 1, [65,75,95,99]),(1001, 'Computer Science', 'MIT', 2, [95,35,75,90,91]),\\\n",
    "         (1003,'Data Science', 'Cornell', 3, [75,85,95,99,33])]\n",
    "\n",
    "\n",
    "for test in test1:\n",
    "    project = Project(test[0],test[1],test[2],test[3],test[4])\n",
    "    project.perform_analysis()\n",
    "    project_info = f\"Student id : {project.student_id}\\nMajor: {project.major}\\nUniversity:{project.university}\\n\\\n",
    "project_id:{project.project_id}\\ndata_points : {project.data_points}\\nis_active:{project.is_active()}\"\n",
    "    print(project_info)\n",
    "    print(f\"analysis results :{project.get_results()}\\n\")"
   ]
  },
  {
   "cell_type": "markdown",
   "id": "ad6371de-1f38-4860-af92-60946a5e3d56",
   "metadata": {},
   "source": []
  },
  {
   "cell_type": "markdown",
   "id": "b25f8c3d-6e4d-43fe-b469-3c3a2d284085",
   "metadata": {},
   "source": [
    "# Question 5: Tests if data points can be added and data statistics are updated.(5 points)"
   ]
  },
  {
   "cell_type": "code",
   "execution_count": 184,
   "id": "8d9950ad-7528-492b-b6f2-c92981fb8d61",
   "metadata": {},
   "outputs": [
    {
     "name": "stdout",
     "output_type": "stream",
     "text": [
      "analysis results before : {'min': 65, 'max': 99, 'avg': 83.5}\n",
      "analysis results after: {'min': 22, 'max': 99, 'avg': 71.2}\n"
     ]
    }
   ],
   "source": [
    "test = (1000, 'Computer Science', 'HARVARD', 1, [65,75,95,99])\n",
    "project = Project(test[0],test[1],test[2],test[3],test[4])\n",
    "project.perform_analysis()\n",
    "print(f\"analysis results before : {project.get_results()}\")\n",
    "project.add_data(22)\n",
    "project.perform_analysis()\n",
    "print(f\"analysis results after: {project.get_results()}\")\n"
   ]
  },
  {
   "cell_type": "markdown",
   "id": "1e5f8743-0879-4d3d-b095-907778d1986c",
   "metadata": {},
   "source": [
    "### Question 6: Tests if active can be set (5 points) \n"
   ]
  },
  {
   "cell_type": "code",
   "execution_count": 187,
   "id": "dd6ea14a-46f6-4e43-ada8-d63a18c1dda0",
   "metadata": {},
   "outputs": [
    {
     "name": "stdout",
     "output_type": "stream",
     "text": [
      "value of active at initialization: True\n",
      "value of active after calling set method: False\n"
     ]
    }
   ],
   "source": [
    "test = (1000, 'Computer Science', 'HARVARD', 1, [65,75,95,99])\n",
    "project = Project(test[0],test[1],test[2],test[3],test[4])\n",
    "print(f\"value of active at initialization: {project.is_active()}\")\n",
    "project.set_active(False)\n",
    "print(f\"value of active after calling set method: {project.is_active()}\")"
   ]
  },
  {
   "cell_type": "markdown",
   "id": "2d427ef4-9fe8-45f2-ad97-f49ef1cbe203",
   "metadata": {},
   "source": [
    "### Question 7: Tests if perform_analysis can handle exceptions for empty list (4 points) "
   ]
  },
  {
   "cell_type": "code",
   "execution_count": 190,
   "id": "497d0c21-8a5c-4abf-82cb-da965de35c29",
   "metadata": {},
   "outputs": [
    {
     "name": "stdout",
     "output_type": "stream",
     "text": [
      "Test #1 : Test perform analysis if the data points is an empty list.\n",
      "Cannot perform analysis: No data points available.\n"
     ]
    }
   ],
   "source": [
    "test1 = (1000, 'Computer Science', 'HARVARD', 1, [])\n",
    "\n",
    "print(f\"Test #1 : Test perform analysis if the data points is an empty list.\")\n",
    "project = Project(test1[0],test1[1],test1[2],test1[3],test1[4])\n",
    "project.perform_analysis()\n",
    "\n",
    "\n",
    "\n",
    "    "
   ]
  },
  {
   "cell_type": "markdown",
   "id": "a83c5c38-150f-4c20-acb4-5f9e834c9ae0",
   "metadata": {},
   "source": [
    "### Question 8: Tests if constructor raises an error if non-numerical values are present in data_points (3 pts)"
   ]
  },
  {
   "cell_type": "code",
   "execution_count": 193,
   "id": "25e783fc-a277-43d7-837e-c3308b0a5b5b",
   "metadata": {},
   "outputs": [
    {
     "ename": "TypeError",
     "evalue": "All data points must be numerical values (int or float).",
     "output_type": "error",
     "traceback": [
      "\u001b[0;31m---------------------------------------------------------------------------\u001b[0m",
      "\u001b[0;31mTypeError\u001b[0m                                 Traceback (most recent call last)",
      "Cell \u001b[0;32mIn[193], line 3\u001b[0m\n\u001b[1;32m      1\u001b[0m test2 \u001b[38;5;241m=\u001b[39m (\u001b[38;5;241m1001\u001b[39m, \u001b[38;5;124m'\u001b[39m\u001b[38;5;124mComputer Science\u001b[39m\u001b[38;5;124m'\u001b[39m, \u001b[38;5;124m'\u001b[39m\u001b[38;5;124mMIT\u001b[39m\u001b[38;5;124m'\u001b[39m, \u001b[38;5;241m2\u001b[39m, [\u001b[38;5;241m95\u001b[39m,\u001b[38;5;241m35\u001b[39m,\u001b[38;5;241m75\u001b[39m,\u001b[38;5;241m90\u001b[39m,\u001b[38;5;124m'\u001b[39m\u001b[38;5;124ma\u001b[39m\u001b[38;5;124m'\u001b[39m])\n\u001b[1;32m      2\u001b[0m \u001b[38;5;66;03m#print(f\"\\nTest #3 : Test constructor if data points has non-numerical values.\")\u001b[39;00m\n\u001b[0;32m----> 3\u001b[0m project \u001b[38;5;241m=\u001b[39m Project(test2[\u001b[38;5;241m0\u001b[39m],test2[\u001b[38;5;241m1\u001b[39m],test2[\u001b[38;5;241m2\u001b[39m],test2[\u001b[38;5;241m3\u001b[39m],test2[\u001b[38;5;241m4\u001b[39m])\n",
      "Cell \u001b[0;32mIn[159], line 7\u001b[0m, in \u001b[0;36mProject.__init__\u001b[0;34m(self, student_id, major, university, project_id, data_points)\u001b[0m\n\u001b[1;32m      4\u001b[0m \u001b[38;5;28mself\u001b[39m\u001b[38;5;241m.\u001b[39mproject_id \u001b[38;5;241m=\u001b[39m project_id\n\u001b[1;32m      6\u001b[0m \u001b[38;5;28;01mif\u001b[39;00m \u001b[38;5;129;01mnot\u001b[39;00m \u001b[38;5;28mall\u001b[39m(\u001b[38;5;28misinstance\u001b[39m(x, (\u001b[38;5;28mint\u001b[39m, \u001b[38;5;28mfloat\u001b[39m)) \u001b[38;5;28;01mfor\u001b[39;00m x \u001b[38;5;129;01min\u001b[39;00m data_points):\n\u001b[0;32m----> 7\u001b[0m     \u001b[38;5;28;01mraise\u001b[39;00m \u001b[38;5;167;01mTypeError\u001b[39;00m(\u001b[38;5;124m\"\u001b[39m\u001b[38;5;124mAll data points must be numerical values (int or float).\u001b[39m\u001b[38;5;124m\"\u001b[39m)\n\u001b[1;32m      9\u001b[0m \u001b[38;5;28mself\u001b[39m\u001b[38;5;241m.\u001b[39mdata_points \u001b[38;5;241m=\u001b[39m data_points\n\u001b[1;32m     10\u001b[0m \u001b[38;5;28mself\u001b[39m\u001b[38;5;241m.\u001b[39m__analysis_results \u001b[38;5;241m=\u001b[39m {}\n",
      "\u001b[0;31mTypeError\u001b[0m: All data points must be numerical values (int or float)."
     ]
    }
   ],
   "source": [
    "test2 = (1001, 'Computer Science', 'MIT', 2, [95,35,75,90,'a'])\n",
    "#print(f\"\\nTest #3 : Test constructor if data points has non-numerical values.\")\n",
    "project = Project(test2[0],test2[1],test2[2],test2[3],test2[4])\n",
    "\n"
   ]
  },
  {
   "cell_type": "markdown",
   "id": "39539df9-744e-44c6-b144-8d52840b08ed",
   "metadata": {},
   "source": [
    "### Question 9: Tests if adding non-numerical values to data_points raises an error (3 pts)"
   ]
  },
  {
   "cell_type": "code",
   "execution_count": 195,
   "id": "608837b8-49e7-4481-80e5-272ed593cba7",
   "metadata": {},
   "outputs": [
    {
     "ename": "TypeError",
     "evalue": "New data point must be a numerical value.",
     "output_type": "error",
     "traceback": [
      "\u001b[0;31m---------------------------------------------------------------------------\u001b[0m",
      "\u001b[0;31mTypeError\u001b[0m                                 Traceback (most recent call last)",
      "Cell \u001b[0;32mIn[195], line 3\u001b[0m\n\u001b[1;32m      1\u001b[0m test3 \u001b[38;5;241m=\u001b[39m (\u001b[38;5;241m1000\u001b[39m, \u001b[38;5;124m'\u001b[39m\u001b[38;5;124mComputer Science\u001b[39m\u001b[38;5;124m'\u001b[39m, \u001b[38;5;124m'\u001b[39m\u001b[38;5;124mHARVARD\u001b[39m\u001b[38;5;124m'\u001b[39m, \u001b[38;5;241m3\u001b[39m, [\u001b[38;5;241m100\u001b[39m,\u001b[38;5;241m100\u001b[39m,\u001b[38;5;241m100\u001b[39m])\n\u001b[1;32m      2\u001b[0m project \u001b[38;5;241m=\u001b[39m Project(test3[\u001b[38;5;241m0\u001b[39m],test3[\u001b[38;5;241m1\u001b[39m],test3[\u001b[38;5;241m2\u001b[39m],test3[\u001b[38;5;241m3\u001b[39m],test3[\u001b[38;5;241m4\u001b[39m])\n\u001b[0;32m----> 3\u001b[0m project\u001b[38;5;241m.\u001b[39madd_data(\u001b[38;5;124m'\u001b[39m\u001b[38;5;124mxyz\u001b[39m\u001b[38;5;124m'\u001b[39m)\n",
      "Cell \u001b[0;32mIn[159], line 37\u001b[0m, in \u001b[0;36mProject.add_data\u001b[0;34m(self, value)\u001b[0m\n\u001b[1;32m     35\u001b[0m \u001b[38;5;28;01mdef\u001b[39;00m \u001b[38;5;21madd_data\u001b[39m(\u001b[38;5;28mself\u001b[39m, value):\n\u001b[1;32m     36\u001b[0m     \u001b[38;5;28;01mif\u001b[39;00m \u001b[38;5;129;01mnot\u001b[39;00m \u001b[38;5;28misinstance\u001b[39m(value, (\u001b[38;5;28mint\u001b[39m, \u001b[38;5;28mfloat\u001b[39m)):\n\u001b[0;32m---> 37\u001b[0m         \u001b[38;5;28;01mraise\u001b[39;00m \u001b[38;5;167;01mTypeError\u001b[39;00m(\u001b[38;5;124m\"\u001b[39m\u001b[38;5;124mNew data point must be a numerical value.\u001b[39m\u001b[38;5;124m\"\u001b[39m)\n\u001b[1;32m     38\u001b[0m     \u001b[38;5;28mself\u001b[39m\u001b[38;5;241m.\u001b[39mdata_points\u001b[38;5;241m.\u001b[39mappend(value)\n",
      "\u001b[0;31mTypeError\u001b[0m: New data point must be a numerical value."
     ]
    }
   ],
   "source": [
    "test3 = (1000, 'Computer Science', 'HARVARD', 3, [100,100,100])\n",
    "project = Project(test3[0],test3[1],test3[2],test3[3],test3[4])\n",
    "project.add_data('xyz')\n"
   ]
  },
  {
   "cell_type": "markdown",
   "id": "f535c509-473d-4c40-8caa-13241d94a934",
   "metadata": {},
   "source": [
    "### Question 10 (5 pts)\n",
    "\n",
    "**Working with Class and objects is very important in data science\n",
    "You will be working with a lot of python libraries  which are all created using class and objects.\n",
    "You have already worked with pandas. Let's tie what you have learned in this homework\n",
    "with what you have already learned. Run the cell below, and answer the question that follow**   \n",
    "      "
   ]
  },
  {
   "cell_type": "code",
   "execution_count": 197,
   "id": "2ff43793-f079-43bb-a577-b444488cb441",
   "metadata": {
    "scrolled": true
   },
   "outputs": [
    {
     "name": "stdout",
     "output_type": "stream",
     "text": [
      "(3, 1)\n"
     ]
    },
    {
     "data": {
      "text/html": [
       "<div>\n",
       "<style scoped>\n",
       "    .dataframe tbody tr th:only-of-type {\n",
       "        vertical-align: middle;\n",
       "    }\n",
       "\n",
       "    .dataframe tbody tr th {\n",
       "        vertical-align: top;\n",
       "    }\n",
       "\n",
       "    .dataframe thead th {\n",
       "        text-align: right;\n",
       "    }\n",
       "</style>\n",
       "<table border=\"1\" class=\"dataframe\">\n",
       "  <thead>\n",
       "    <tr style=\"text-align: right;\">\n",
       "      <th></th>\n",
       "      <th>midterm_scores</th>\n",
       "    </tr>\n",
       "  </thead>\n",
       "  <tbody>\n",
       "    <tr>\n",
       "      <th>0</th>\n",
       "      <td>96</td>\n",
       "    </tr>\n",
       "    <tr>\n",
       "      <th>1</th>\n",
       "      <td>90</td>\n",
       "    </tr>\n",
       "    <tr>\n",
       "      <th>2</th>\n",
       "      <td>85</td>\n",
       "    </tr>\n",
       "  </tbody>\n",
       "</table>\n",
       "</div>"
      ],
      "text/plain": [
       "   midterm_scores\n",
       "0              96\n",
       "1              90\n",
       "2              85"
      ]
     },
     "execution_count": 197,
     "metadata": {},
     "output_type": "execute_result"
    }
   ],
   "source": [
    "import pandas as pd\n",
    "midterm_scores = [96,90,85]\n",
    "df = pd.DataFrame(midterm_scores, columns=['midterm_scores'])\n",
    "\n",
    "shape = df.shape\n",
    "print(shape)\n",
    "df.sort_values(by='midterm_scores', ascending=False)\n"
   ]
  },
  {
   "cell_type": "markdown",
   "id": "066045ef-5742-42ad-bc25-1486973c149d",
   "metadata": {},
   "source": [
    "1. Identify the class name and the parameters which is being used to create the object df. Please refer to pandas documentation to answer this question. https://pandas.pydata.org/docs/reference/api/pandas.DataFrame.html (2pt)\n",
    "2. Identify the attribute being called on the object df. (1pt)\n",
    "3. Identify the method, and the method parameters being called by our object df. (2 pt)\n",
    "\n"
   ]
  },
  {
   "cell_type": "markdown",
   "id": "96eab8c9-563e-4b4c-8c29-e28d5db74f6b",
   "metadata": {},
   "source": [
    "**your answer here**\n",
    "\n",
    "\n",
    "\n"
   ]
  },
  {
   "cell_type": "code",
   "execution_count": 201,
   "id": "6b8084e2-225b-4c1f-a7c8-20ac1add5c61",
   "metadata": {},
   "outputs": [],
   "source": [
    "df = pd.DataFrame(midterm_scores, columns=['midterm_scores'])\n"
   ]
  },
  {
   "cell_type": "code",
   "execution_count": 203,
   "id": "900a9e1f-4e4f-4820-9446-33025a5a1fd8",
   "metadata": {},
   "outputs": [
    {
     "data": {
      "text/plain": [
       "(3, 1)"
      ]
     },
     "execution_count": 203,
     "metadata": {},
     "output_type": "execute_result"
    }
   ],
   "source": [
    "df.shape"
   ]
  },
  {
   "cell_type": "code",
   "execution_count": 205,
   "id": "6aae4b1c-8310-4bcb-b53b-2079cdb91fc1",
   "metadata": {},
   "outputs": [
    {
     "data": {
      "text/html": [
       "<div>\n",
       "<style scoped>\n",
       "    .dataframe tbody tr th:only-of-type {\n",
       "        vertical-align: middle;\n",
       "    }\n",
       "\n",
       "    .dataframe tbody tr th {\n",
       "        vertical-align: top;\n",
       "    }\n",
       "\n",
       "    .dataframe thead th {\n",
       "        text-align: right;\n",
       "    }\n",
       "</style>\n",
       "<table border=\"1\" class=\"dataframe\">\n",
       "  <thead>\n",
       "    <tr style=\"text-align: right;\">\n",
       "      <th></th>\n",
       "      <th>midterm_scores</th>\n",
       "    </tr>\n",
       "  </thead>\n",
       "  <tbody>\n",
       "    <tr>\n",
       "      <th>0</th>\n",
       "      <td>96</td>\n",
       "    </tr>\n",
       "    <tr>\n",
       "      <th>1</th>\n",
       "      <td>90</td>\n",
       "    </tr>\n",
       "    <tr>\n",
       "      <th>2</th>\n",
       "      <td>85</td>\n",
       "    </tr>\n",
       "  </tbody>\n",
       "</table>\n",
       "</div>"
      ],
      "text/plain": [
       "   midterm_scores\n",
       "0              96\n",
       "1              90\n",
       "2              85"
      ]
     },
     "execution_count": 205,
     "metadata": {},
     "output_type": "execute_result"
    }
   ],
   "source": [
    "df.sort_values(by='midterm_scores', ascending=False)"
   ]
  },
  {
   "cell_type": "markdown",
   "id": "b6c76967-5f66-40b3-89a3-1be54855bbb7",
   "metadata": {},
   "source": [
    "### Coding style (5 pts)\n",
    "Please make sure your code follows the coding style as defined here.\n",
    "\n",
    "1. Comments on functions.\n",
    "2. Additional comments on parts of code that maybe difficult to understand\n",
    "3. Remove any commented code i.e. your solution should only include the code required by the assignment. All experiemental code needs to removed on the submitted file.\n",
    "4. Code Readibility (if part of your code is long, use multiple lines)\n",
    "\n",
    "    "
   ]
  },
  {
   "cell_type": "markdown",
   "id": "2c58e3dd-3357-4a3f-814c-ac0018763817",
   "metadata": {},
   "source": [
    "## Submission on Gradescope\n",
    "\n",
    "On canvas left menu -> click on Gradescope\n",
    "\n",
    "\n",
    "Submit the jupyter notebook, and a pdf version of this notebook.\n",
    "\n",
    "To create a pdf of this notebook :  In your browser open print, and save as pdf. Name the pdf LastNameFirstName_pset7.pdf\n",
    "example: DoeJohn_pset7.pdf\n",
    "\n",
    "Name this jupyter notebook with the same format LastNameFirstName.ipynb\n",
    "\n",
    "\n",
    "Make sure that your notebook has been run before creating pdf. Any outputs from running the code needs to be clearly visible. We need both .ipynb, and pdf of this notebook to assign you grades. \n",
    "\n",
    "Drop all the files in gradescope under PSET 7: Python OO Programming Exercise\n",
    "\n"
   ]
  },
  {
   "cell_type": "code",
   "execution_count": null,
   "id": "69ed46a6",
   "metadata": {},
   "outputs": [],
   "source": []
  }
 ],
 "metadata": {
  "kernelspec": {
   "display_name": "Python [conda env:base] *",
   "language": "python",
   "name": "conda-base-py"
  },
  "language_info": {
   "codemirror_mode": {
    "name": "ipython",
    "version": 3
   },
   "file_extension": ".py",
   "mimetype": "text/x-python",
   "name": "python",
   "nbconvert_exporter": "python",
   "pygments_lexer": "ipython3",
   "version": "3.12.7"
  }
 },
 "nbformat": 4,
 "nbformat_minor": 5
}
