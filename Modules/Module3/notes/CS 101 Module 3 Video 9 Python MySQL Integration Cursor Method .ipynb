{
 "cells": [
  {
   "cell_type": "markdown",
   "metadata": {},
   "source": [
    "CSCI 101: Foundation of Data Science and Engineering<br>\n",
    "Author: Bruce Huang, Ph.D.<br>\n",
    "<br>\n",
    "Topics: Connect to MySQL Server and use Cursor Method to Execute SQL Commands<br>"
   ]
  },
  {
   "cell_type": "code",
   "execution_count": 1,
   "metadata": {},
   "outputs": [],
   "source": [
    "# import MySQL-Python Connector\n",
    "import mysql.connector as sq"
   ]
  },
  {
   "cell_type": "code",
   "execution_count": 3,
   "metadata": {},
   "outputs": [],
   "source": [
    "# Connect to MySQL server\n",
    "mydb = sq.connect(host=\"localhost\",user=\"root\",passwd=\"ucla\", buffered=True)"
   ]
  },
  {
   "cell_type": "code",
   "execution_count": 4,
   "metadata": {},
   "outputs": [],
   "source": [
    "# Create cursor for SQL Command Execution\n",
    "mycursor = mydb.cursor()"
   ]
  },
  {
   "cell_type": "code",
   "execution_count": 5,
   "metadata": {},
   "outputs": [],
   "source": [
    "# SQL query to show databases created on MySQL server\n",
    "SQLCMD = 'SHOW DATABASES'\n",
    "# SQLCMD = 'CREATE SCHEMA test1012'\n",
    "mycursor.execute(SQLCMD)"
   ]
  },
  {
   "cell_type": "code",
   "execution_count": 6,
   "metadata": {},
   "outputs": [
    {
     "name": "stdout",
     "output_type": "stream",
     "text": [
      "('cookies',)\n",
      "('information_schema',)\n",
      "('mydemo',)\n",
      "('mysql',)\n",
      "('mystore',)\n",
      "('nj_teachers1',)\n",
      "('nj_teachers2',)\n",
      "('nj_teachers_salaries_db',)\n",
      "('performance_schema',)\n",
      "('property',)\n",
      "('sakila',)\n",
      "('supercookiesstore',)\n",
      "('sys',)\n",
      "('world',)\n"
     ]
    }
   ],
   "source": [
    "# Display all database names returned by SHOW DATABASES\n",
    "for db in mycursor:\n",
    "    print (db)"
   ]
  },
  {
   "cell_type": "code",
   "execution_count": 7,
   "metadata": {},
   "outputs": [],
   "source": [
    "SQLCMD = 'CREATE DATABASE DB1004'\n",
    "mycursor.execute(SQLCMD)"
   ]
  },
  {
   "cell_type": "code",
   "execution_count": 8,
   "metadata": {},
   "outputs": [],
   "source": [
    "# SQL query to show databases created on MySQL server\n",
    "SQLCMD = 'SHOW DATABASES'\n",
    "mycursor.execute(SQLCMD)"
   ]
  },
  {
   "cell_type": "code",
   "execution_count": 9,
   "metadata": {},
   "outputs": [
    {
     "name": "stdout",
     "output_type": "stream",
     "text": [
      "('cookies',)\n",
      "('db1004',)\n",
      "('information_schema',)\n",
      "('mydemo',)\n",
      "('mysql',)\n",
      "('mystore',)\n",
      "('nj_teachers1',)\n",
      "('nj_teachers2',)\n",
      "('nj_teachers_salaries_db',)\n",
      "('performance_schema',)\n",
      "('property',)\n",
      "('sakila',)\n",
      "('supercookiesstore',)\n",
      "('sys',)\n",
      "('world',)\n"
     ]
    }
   ],
   "source": [
    "# Display all database names returned by SHOW DATABASES\n",
    "for db in mycursor:\n",
    "    print (db)"
   ]
  }
 ],
 "metadata": {
  "kernelspec": {
   "display_name": "Python 3 (ipykernel)",
   "language": "python",
   "name": "python3"
  },
  "language_info": {
   "codemirror_mode": {
    "name": "ipython",
    "version": 3
   },
   "file_extension": ".py",
   "mimetype": "text/x-python",
   "name": "python",
   "nbconvert_exporter": "python",
   "pygments_lexer": "ipython3",
   "version": "3.11.3"
  }
 },
 "nbformat": 4,
 "nbformat_minor": 4
}
