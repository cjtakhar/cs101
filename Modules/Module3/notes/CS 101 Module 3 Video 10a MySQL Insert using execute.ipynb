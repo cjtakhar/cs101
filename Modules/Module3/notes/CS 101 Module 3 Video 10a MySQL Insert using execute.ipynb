{
 "cells": [
  {
   "cell_type": "code",
   "execution_count": 1,
   "id": "0e1e4fd5",
   "metadata": {},
   "outputs": [],
   "source": [
    "import mysql.connector as sq"
   ]
  },
  {
   "cell_type": "code",
   "execution_count": 2,
   "id": "a9592af9",
   "metadata": {},
   "outputs": [],
   "source": [
    "mydb=sq.connect(host=\"localhost\",user=\"root\",passwd=\"ucla\", buffered=True)"
   ]
  },
  {
   "cell_type": "code",
   "execution_count": 3,
   "id": "894d8910",
   "metadata": {},
   "outputs": [],
   "source": [
    "mycursor = mydb.cursor()"
   ]
  },
  {
   "cell_type": "code",
   "execution_count": 4,
   "id": "b675b12d",
   "metadata": {},
   "outputs": [],
   "source": [
    "mycursor.execute(\"CREATE SCHEMA mystore2\")"
   ]
  },
  {
   "cell_type": "code",
   "execution_count": 5,
   "id": "f8ec80d2",
   "metadata": {},
   "outputs": [],
   "source": [
    "mycursor.execute(\"CREATE TABLE mystore2.inventory(Item_no INT NOT NULL,  Item_name VARCHAR(100) NOT NULL, \\\n",
    "Unit_Price INT NOT NULL, Inventory INT,  PRIMARY KEY (Item_no))\")"
   ]
  },
  {
   "cell_type": "code",
   "execution_count": 6,
   "id": "3792318a",
   "metadata": {},
   "outputs": [],
   "source": [
    "mycursor.execute(\"INSERT INTO mystore2.inventory (Item_no, Item_name, Unit_Price, Inventory) \\\n",
    "VALUES (2321, 'Dell Laptop', 1500, 56)\")\n",
    "mycursor.execute(\"INSERT INTO mystore2.inventory (Item_no, Item_name, Unit_Price, Inventory) \\\n",
    "VALUES (5432, 'Seagate Drive', 200, 100)\")\n",
    "mycursor.execute(\"INSERT INTO mystore2.inventory (Item_no, Item_name, Unit_Price, Inventory) \\\n",
    "VALUES (5674, 'Kingston USB Drive', 70, 500)\")\n",
    "mycursor.execute(\"INSERT INTO mystore2.inventory (Item_no, Item_name, Unit_Price, Inventory) \\\n",
    "VALUES (8542, 'Backpack', 100, 45)\")"
   ]
  },
  {
   "cell_type": "code",
   "execution_count": null,
   "id": "19e83129",
   "metadata": {},
   "outputs": [],
   "source": []
  },
  {
   "cell_type": "code",
   "execution_count": null,
   "id": "1a6c2cc1",
   "metadata": {},
   "outputs": [],
   "source": []
  },
  {
   "cell_type": "code",
   "execution_count": null,
   "id": "7086e9d2",
   "metadata": {},
   "outputs": [],
   "source": []
  },
  {
   "cell_type": "code",
   "execution_count": null,
   "id": "91dbf63e",
   "metadata": {},
   "outputs": [],
   "source": []
  },
  {
   "cell_type": "code",
   "execution_count": null,
   "id": "b9f55547",
   "metadata": {},
   "outputs": [],
   "source": []
  },
  {
   "cell_type": "code",
   "execution_count": null,
   "id": "78a24bf2",
   "metadata": {},
   "outputs": [],
   "source": []
  },
  {
   "cell_type": "code",
   "execution_count": 7,
   "id": "bda01391",
   "metadata": {},
   "outputs": [],
   "source": [
    "mydb.commit()"
   ]
  }
 ],
 "metadata": {
  "kernelspec": {
   "display_name": "Python 3 (ipykernel)",
   "language": "python",
   "name": "python3"
  },
  "language_info": {
   "codemirror_mode": {
    "name": "ipython",
    "version": 3
   },
   "file_extension": ".py",
   "mimetype": "text/x-python",
   "name": "python",
   "nbconvert_exporter": "python",
   "pygments_lexer": "ipython3",
   "version": "3.11.3"
  }
 },
 "nbformat": 4,
 "nbformat_minor": 5
}
