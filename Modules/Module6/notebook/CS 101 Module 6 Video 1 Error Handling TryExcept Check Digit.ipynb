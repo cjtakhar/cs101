{
 "cells": [
  {
   "cell_type": "code",
   "execution_count": 22,
   "metadata": {},
   "outputs": [],
   "source": [
    "def isValidDigit(s):\n",
    "    try:\n",
    "        # If s is a valid digit then no error from casting\n",
    "        float(s)\n",
    "        print(\"it is a number\")\n",
    "        # return True\n",
    "    except:\n",
    "        pass\n",
    "#         print(\"inside except - not valid\")\n",
    "#     except ValueError:\n",
    "#         print(\"it is not a number\")\n",
    "#         return False\n",
    "#     else:\n",
    "#         print(\"something else\")\n",
    "#     finally:\n",
    "#         print(\"right or wrong\")\n",
    "        \n",
    "#     print(\"outside\")"
   ]
  },
  {
   "cell_type": "code",
   "execution_count": 24,
   "metadata": {},
   "outputs": [],
   "source": [
    "s = \"r\"\n",
    "isValidDigit(s)"
   ]
  },
  {
   "cell_type": "code",
   "execution_count": null,
   "metadata": {},
   "outputs": [],
   "source": []
  }
 ],
 "metadata": {
  "kernelspec": {
   "display_name": "Python 3 (ipykernel)",
   "language": "python",
   "name": "python3"
  },
  "language_info": {
   "codemirror_mode": {
    "name": "ipython",
    "version": 3
   },
   "file_extension": ".py",
   "mimetype": "text/x-python",
   "name": "python",
   "nbconvert_exporter": "python",
   "pygments_lexer": "ipython3",
   "version": "3.11.3"
  }
 },
 "nbformat": 4,
 "nbformat_minor": 4
}
