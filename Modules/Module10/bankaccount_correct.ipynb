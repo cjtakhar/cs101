{
 "cells": [
  {
   "cell_type": "code",
   "execution_count": 19,
   "id": "0aa2f29a-a866-45c6-b9b5-a913978fcc99",
   "metadata": {},
   "outputs": [],
   "source": [
    "class bank_account:\n",
    "    def __init__(self):\n",
    "        self.acct_num = 1000\n",
    "        self.acct_name = \"jane smith\"\n",
    "        self.acct_balance = 250"
   ]
  },
  {
   "cell_type": "code",
   "execution_count": 25,
   "id": "99abaf56-87c7-44a2-b5c0-dab5b7457b63",
   "metadata": {},
   "outputs": [],
   "source": [
    "account1 = bank_account()"
   ]
  },
  {
   "cell_type": "code",
   "execution_count": 27,
   "id": "b942c7dd-77eb-420f-8518-6ea3be3e8c28",
   "metadata": {},
   "outputs": [
    {
     "data": {
      "text/plain": [
       "1000"
      ]
     },
     "execution_count": 27,
     "metadata": {},
     "output_type": "execute_result"
    }
   ],
   "source": [
    "account1.acct_num"
   ]
  },
  {
   "cell_type": "code",
   "execution_count": 29,
   "id": "3528ad07-bdd9-4a4e-8b3e-cb7a810fc25b",
   "metadata": {},
   "outputs": [],
   "source": [
    "account2 = bank_account()"
   ]
  },
  {
   "cell_type": "code",
   "execution_count": 31,
   "id": "085edc7c-45a1-4392-9e86-901cd1a60cb5",
   "metadata": {},
   "outputs": [
    {
     "data": {
      "text/plain": [
       "1000"
      ]
     },
     "execution_count": 31,
     "metadata": {},
     "output_type": "execute_result"
    }
   ],
   "source": [
    "account2.acct_num"
   ]
  },
  {
   "cell_type": "code",
   "execution_count": 41,
   "id": "da4473d7-0c0c-461e-97d6-1d78f9768ab3",
   "metadata": {},
   "outputs": [],
   "source": [
    "class bank_account:\n",
    "    def __init__(self, aNum, aHolder, aBalance):\n",
    "        self.acct_num = aNum\n",
    "        self.acct_name = aHolder\n",
    "        self.acct_balance = aBalance\n",
    "        "
   ]
  },
  {
   "cell_type": "code",
   "execution_count": 43,
   "id": "5df8e2bd-0f77-4918-8466-4e2a25384d84",
   "metadata": {},
   "outputs": [],
   "source": [
    "account1 = bank_account(1000, \"jane smith\", 250)"
   ]
  },
  {
   "cell_type": "code",
   "execution_count": 45,
   "id": "97e63220-9362-45f1-aea3-ed955c27dd9c",
   "metadata": {},
   "outputs": [
    {
     "data": {
      "text/plain": [
       "1000"
      ]
     },
     "execution_count": 45,
     "metadata": {},
     "output_type": "execute_result"
    }
   ],
   "source": [
    "account1.acct_num"
   ]
  },
  {
   "cell_type": "code",
   "execution_count": 47,
   "id": "8710fa8d-01de-4f3c-9fb0-427418140748",
   "metadata": {},
   "outputs": [
    {
     "data": {
      "text/plain": [
       "'jane smith'"
      ]
     },
     "execution_count": 47,
     "metadata": {},
     "output_type": "execute_result"
    }
   ],
   "source": [
    "account1.acct_name"
   ]
  },
  {
   "cell_type": "code",
   "execution_count": 49,
   "id": "6a381dd7-e1a8-4341-9032-1c5d75a81aac",
   "metadata": {},
   "outputs": [
    {
     "data": {
      "text/plain": [
       "250"
      ]
     },
     "execution_count": 49,
     "metadata": {},
     "output_type": "execute_result"
    }
   ],
   "source": [
    "account1.acct_balance"
   ]
  },
  {
   "cell_type": "code",
   "execution_count": null,
   "id": "5748e6bc-90ff-416c-9a89-618aef676e62",
   "metadata": {},
   "outputs": [],
   "source": []
  }
 ],
 "metadata": {
  "kernelspec": {
   "display_name": "Python [conda env:base] *",
   "language": "python",
   "name": "conda-base-py"
  },
  "language_info": {
   "codemirror_mode": {
    "name": "ipython",
    "version": 3
   },
   "file_extension": ".py",
   "mimetype": "text/x-python",
   "name": "python",
   "nbconvert_exporter": "python",
   "pygments_lexer": "ipython3",
   "version": "3.12.7"
  }
 },
 "nbformat": 4,
 "nbformat_minor": 5
}
