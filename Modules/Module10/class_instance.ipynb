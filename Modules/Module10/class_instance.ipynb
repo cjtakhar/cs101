{
 "cells": [
  {
   "cell_type": "code",
   "execution_count": 4,
   "id": "044b375b-493d-4e58-8521-60a2b62a3028",
   "metadata": {},
   "outputs": [],
   "source": [
    "class checking_account:\n",
    "    bank_branch = 54321\n",
    "    def __init__(self, aNum, aHolder, aBalance):\n",
    "        self.aNum = aNum\n",
    "        self.aHolder = aHolder\n",
    "        self.aBalance = aBalance"
   ]
  },
  {
   "cell_type": "code",
   "execution_count": 6,
   "id": "ee4b584e-d2d1-48e0-8028-0c2103705051",
   "metadata": {},
   "outputs": [],
   "source": [
    "account1 = checking_account(1001, \"joe dimaggio\", 250)"
   ]
  },
  {
   "cell_type": "code",
   "execution_count": 10,
   "id": "ada93b1e-db25-4cdc-9fd5-508a54fefe09",
   "metadata": {},
   "outputs": [
    {
     "data": {
      "text/plain": [
       "1001"
      ]
     },
     "execution_count": 10,
     "metadata": {},
     "output_type": "execute_result"
    }
   ],
   "source": [
    "account1.aNum"
   ]
  },
  {
   "cell_type": "code",
   "execution_count": 12,
   "id": "d3a57119-cbaf-4e78-b56b-0d344661d97b",
   "metadata": {},
   "outputs": [],
   "source": [
    "account2 = checking_account(1002, \"jackie robinson\", 250)"
   ]
  },
  {
   "cell_type": "code",
   "execution_count": 14,
   "id": "6bac265a-ac18-4353-93b6-b44863ef3fbc",
   "metadata": {},
   "outputs": [
    {
     "data": {
      "text/plain": [
       "1002"
      ]
     },
     "execution_count": 14,
     "metadata": {},
     "output_type": "execute_result"
    }
   ],
   "source": [
    "account2.aNum"
   ]
  },
  {
   "cell_type": "code",
   "execution_count": 16,
   "id": "890ead9b-60c0-4a1c-be08-81968b9cb94c",
   "metadata": {},
   "outputs": [
    {
     "data": {
      "text/plain": [
       "'joe dimaggio'"
      ]
     },
     "execution_count": 16,
     "metadata": {},
     "output_type": "execute_result"
    }
   ],
   "source": [
    "account1.aHolder"
   ]
  },
  {
   "cell_type": "code",
   "execution_count": 18,
   "id": "35f332c8-fda0-405d-849f-62c8f071d444",
   "metadata": {},
   "outputs": [
    {
     "data": {
      "text/plain": [
       "54321"
      ]
     },
     "execution_count": 18,
     "metadata": {},
     "output_type": "execute_result"
    }
   ],
   "source": [
    "account2.bank_branch"
   ]
  },
  {
   "cell_type": "code",
   "execution_count": 20,
   "id": "3a89e768-3e69-440a-b3bb-e40be6ddbaac",
   "metadata": {},
   "outputs": [
    {
     "data": {
      "text/plain": [
       "54321"
      ]
     },
     "execution_count": 20,
     "metadata": {},
     "output_type": "execute_result"
    }
   ],
   "source": [
    "account1.bank_branch"
   ]
  },
  {
   "cell_type": "code",
   "execution_count": null,
   "id": "415ab3a4-e75e-423b-a73f-dd0cc5ba99b4",
   "metadata": {},
   "outputs": [],
   "source": []
  }
 ],
 "metadata": {
  "kernelspec": {
   "display_name": "Python [conda env:base] *",
   "language": "python",
   "name": "conda-base-py"
  },
  "language_info": {
   "codemirror_mode": {
    "name": "ipython",
    "version": 3
   },
   "file_extension": ".py",
   "mimetype": "text/x-python",
   "name": "python",
   "nbconvert_exporter": "python",
   "pygments_lexer": "ipython3",
   "version": "3.12.7"
  }
 },
 "nbformat": 4,
 "nbformat_minor": 5
}
