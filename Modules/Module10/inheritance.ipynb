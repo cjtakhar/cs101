{
 "cells": [
  {
   "cell_type": "code",
   "execution_count": 2,
   "id": "cb3f6960-4bac-40cd-b7e9-1e1008dce94e",
   "metadata": {},
   "outputs": [],
   "source": [
    "class cs101:\n",
    "    def __init__(self, fName, lName):\n",
    "        self.fName = fName\n",
    "        self.lName = lName"
   ]
  },
  {
   "cell_type": "code",
   "execution_count": 8,
   "id": "e1ecf411-3f00-4f40-9a79-c2352d3ede48",
   "metadata": {},
   "outputs": [],
   "source": [
    "class students:\n",
    "    def __init__(self, fName, lName, grade):\n",
    "        super().__init__(fName,lName)\n",
    "        self.grade = grade"
   ]
  },
  {
   "cell_type": "code",
   "execution_count": null,
   "id": "105bffe5-b2ca-4e37-94a0-20a46e39b343",
   "metadata": {},
   "outputs": [],
   "source": []
  }
 ],
 "metadata": {
  "kernelspec": {
   "display_name": "Python [conda env:base] *",
   "language": "python",
   "name": "conda-base-py"
  },
  "language_info": {
   "codemirror_mode": {
    "name": "ipython",
    "version": 3
   },
   "file_extension": ".py",
   "mimetype": "text/x-python",
   "name": "python",
   "nbconvert_exporter": "python",
   "pygments_lexer": "ipython3",
   "version": "3.12.7"
  }
 },
 "nbformat": 4,
 "nbformat_minor": 5
}
