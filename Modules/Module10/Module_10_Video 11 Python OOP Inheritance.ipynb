{
 "cells": [
  {
   "cell_type": "code",
   "execution_count": 5,
   "metadata": {},
   "outputs": [],
   "source": [
    "class Account:\n",
    "    iBalance = 100\n",
    "    def __init__(self, aNum, fName, lName, aBalance):\n",
    "        print(\"inside parent class\")\n",
    "        if aNum < 1:\n",
    "            self.aNum = 999\n",
    "        else:\n",
    "            self.aNum = aNum\n",
    "        self.fName = fName\n",
    "        self.lName = lName\n",
    "        self.__aBalance = aBalance + Account.iBalance\n",
    "    \n",
    "    def Deposit(self, dep):  \n",
    "        self.__aBalance=self.__aBalance+dep\n",
    "        return self.__aBalance\n",
    "    \n",
    "    def setBal(self, nBal): # setter\n",
    "        self.__aBalance=nBal\n",
    "        return self.__aBalance\n",
    "    \n",
    "    def getAcctNum(self):  # getter\n",
    "        return self.aNum\n",
    "\n",
    "    def setfName(self, nName):\n",
    "        self.fName = nName\n",
    "        return self.fName\n",
    "    \n",
    "    def getBal(self):\n",
    "        return self.__aBalance\n",
    "    \n",
    "class CD_Account(Account):\n",
    "    def __init__(self, aNum, fName, lName, aBalance, cdMaturity):\n",
    "        print(\"inside subclass\")\n",
    "        super().__init__(aNum, fName, lName, aBalance)\n",
    "        self.CdMaturity=cdMaturity\n",
    "        \n",
    "        \n"
   ]
  },
  {
   "cell_type": "code",
   "execution_count": 6,
   "metadata": {},
   "outputs": [
    {
     "name": "stdout",
     "output_type": "stream",
     "text": [
      "inside parent class\n"
     ]
    }
   ],
   "source": [
    "chkacct1 = Account(0,\"John\",\"Smith\",1345.89)\n"
   ]
  },
  {
   "cell_type": "code",
   "execution_count": 3,
   "metadata": {},
   "outputs": [
    {
     "name": "stdout",
     "output_type": "stream",
     "text": [
      "999\n"
     ]
    }
   ],
   "source": [
    "print(chkacct1.aNum)"
   ]
  },
  {
   "cell_type": "code",
   "execution_count": 7,
   "metadata": {},
   "outputs": [
    {
     "name": "stdout",
     "output_type": "stream",
     "text": [
      "inside subclass\n",
      "inside parent class\n"
     ]
    }
   ],
   "source": [
    "cdAcct1 = CD_Account(50,\"John\",\"Smith\",1345.89,5);"
   ]
  },
  {
   "cell_type": "code",
   "execution_count": 8,
   "metadata": {},
   "outputs": [
    {
     "name": "stdout",
     "output_type": "stream",
     "text": [
      "50\n"
     ]
    }
   ],
   "source": [
    "print(cdAcct1.aNum)"
   ]
  },
  {
   "cell_type": "code",
   "execution_count": 9,
   "metadata": {},
   "outputs": [
    {
     "name": "stdout",
     "output_type": "stream",
     "text": [
      "John\n"
     ]
    }
   ],
   "source": [
    "print(cdAcct1.fName)"
   ]
  },
  {
   "cell_type": "code",
   "execution_count": 10,
   "metadata": {},
   "outputs": [
    {
     "name": "stdout",
     "output_type": "stream",
     "text": [
      "1445.89\n"
     ]
    }
   ],
   "source": [
    "print(chkacct1.getBal())"
   ]
  },
  {
   "cell_type": "code",
   "execution_count": 11,
   "metadata": {},
   "outputs": [
    {
     "data": {
      "text/plain": [
       "2013.89"
      ]
     },
     "execution_count": 11,
     "metadata": {},
     "output_type": "execute_result"
    }
   ],
   "source": [
    "chkacct1.Deposit(568)"
   ]
  },
  {
   "cell_type": "code",
   "execution_count": 12,
   "metadata": {},
   "outputs": [
    {
     "data": {
      "text/plain": [
       "999"
      ]
     },
     "execution_count": 12,
     "metadata": {},
     "output_type": "execute_result"
    }
   ],
   "source": [
    "chkacct1.getAcctNum()"
   ]
  },
  {
   "cell_type": "code",
   "execution_count": 13,
   "metadata": {},
   "outputs": [
    {
     "name": "stdout",
     "output_type": "stream",
     "text": [
      "999\n"
     ]
    }
   ],
   "source": [
    "print(chkacct1.aNum)"
   ]
  },
  {
   "cell_type": "code",
   "execution_count": 14,
   "metadata": {},
   "outputs": [
    {
     "data": {
      "text/plain": [
       "'Bob'"
      ]
     },
     "execution_count": 14,
     "metadata": {},
     "output_type": "execute_result"
    }
   ],
   "source": [
    "chkacct1.setfName(\"Bob\")"
   ]
  },
  {
   "cell_type": "code",
   "execution_count": 15,
   "metadata": {},
   "outputs": [
    {
     "data": {
      "text/plain": [
       "300"
      ]
     },
     "execution_count": 15,
     "metadata": {},
     "output_type": "execute_result"
    }
   ],
   "source": [
    "chkacct1.setBal(300)"
   ]
  },
  {
   "cell_type": "code",
   "execution_count": null,
   "metadata": {},
   "outputs": [],
   "source": []
  }
 ],
 "metadata": {
  "kernelspec": {
   "display_name": "Python 3 (ipykernel)",
   "language": "python",
   "name": "python3"
  },
  "language_info": {
   "codemirror_mode": {
    "name": "ipython",
    "version": 3
   },
   "file_extension": ".py",
   "mimetype": "text/x-python",
   "name": "python",
   "nbconvert_exporter": "python",
   "pygments_lexer": "ipython3",
   "version": "3.9.7"
  }
 },
 "nbformat": 4,
 "nbformat_minor": 4
}
