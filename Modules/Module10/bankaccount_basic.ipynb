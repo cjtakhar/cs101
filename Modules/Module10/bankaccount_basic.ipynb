{
 "cells": [
  {
   "cell_type": "code",
   "execution_count": 6,
   "id": "79cf1722-7ec4-4652-8aa7-42d09133f2b8",
   "metadata": {},
   "outputs": [],
   "source": [
    "class bank_account:\n",
    "    pass"
   ]
  },
  {
   "cell_type": "code",
   "execution_count": 8,
   "id": "189f04c7-7c98-4410-9b30-63842afc6508",
   "metadata": {},
   "outputs": [],
   "source": [
    "#Create instance\n",
    "account1 = bank_account "
   ]
  },
  {
   "cell_type": "code",
   "execution_count": 10,
   "id": "9a9e44dc-3ac0-4e9b-93c9-5ab26681b9d9",
   "metadata": {},
   "outputs": [
    {
     "data": {
      "text/plain": [
       "type"
      ]
     },
     "execution_count": 10,
     "metadata": {},
     "output_type": "execute_result"
    }
   ],
   "source": [
    "type(account1)"
   ]
  },
  {
   "cell_type": "code",
   "execution_count": 12,
   "id": "c1c47220-1c45-46d2-97fc-39fb54e55248",
   "metadata": {},
   "outputs": [],
   "source": [
    "# Define Attributes\n",
    "account1.acct_num = 1000 \n",
    "account1.acct_holder = \"jane smith\"\n",
    "account1.acct_balance = 250"
   ]
  },
  {
   "cell_type": "code",
   "execution_count": 14,
   "id": "3c7d0900-5c46-451b-bf83-dc3cec459cdb",
   "metadata": {},
   "outputs": [
    {
     "data": {
      "text/plain": [
       "1000"
      ]
     },
     "execution_count": 14,
     "metadata": {},
     "output_type": "execute_result"
    }
   ],
   "source": [
    "account1.acct_num"
   ]
  },
  {
   "cell_type": "code",
   "execution_count": 16,
   "id": "7fe7d3ac-8823-49a0-9bf5-0ae0d5d87c2b",
   "metadata": {},
   "outputs": [
    {
     "data": {
      "text/plain": [
       "250"
      ]
     },
     "execution_count": 16,
     "metadata": {},
     "output_type": "execute_result"
    }
   ],
   "source": [
    "account1.acct_balance"
   ]
  },
  {
   "cell_type": "code",
   "execution_count": 18,
   "id": "215b263b-d21b-432b-8a53-3ab0ca1a75a0",
   "metadata": {},
   "outputs": [
    {
     "data": {
      "text/plain": [
       "'jane smith'"
      ]
     },
     "execution_count": 18,
     "metadata": {},
     "output_type": "execute_result"
    }
   ],
   "source": [
    "account1.acct_holder"
   ]
  },
  {
   "cell_type": "code",
   "execution_count": 22,
   "id": "2be6862b-a365-4fbe-ab7a-f826062dc335",
   "metadata": {},
   "outputs": [],
   "source": [
    "account2 = bank_account"
   ]
  },
  {
   "cell_type": "code",
   "execution_count": 24,
   "id": "731c0325-a13a-4640-afb7-db9b8c922c8a",
   "metadata": {},
   "outputs": [],
   "source": [
    "account2.acct_num = 1001\n",
    "account2.acct_holder = \"don julio\"\n",
    "account2.acct_balance = 250"
   ]
  },
  {
   "cell_type": "code",
   "execution_count": 26,
   "id": "4f68d469-9c12-4a4e-b859-d3b4e3fcf433",
   "metadata": {},
   "outputs": [
    {
     "data": {
      "text/plain": [
       "250"
      ]
     },
     "execution_count": 26,
     "metadata": {},
     "output_type": "execute_result"
    }
   ],
   "source": [
    "account2.acct_num\n",
    "account2.acct_holder\n",
    "account2.acct_balance"
   ]
  },
  {
   "cell_type": "code",
   "execution_count": null,
   "id": "a72359a1-1168-41b6-810c-7821306a578d",
   "metadata": {},
   "outputs": [],
   "source": []
  }
 ],
 "metadata": {
  "kernelspec": {
   "display_name": "Python [conda env:base] *",
   "language": "python",
   "name": "conda-base-py"
  },
  "language_info": {
   "codemirror_mode": {
    "name": "ipython",
    "version": 3
   },
   "file_extension": ".py",
   "mimetype": "text/x-python",
   "name": "python",
   "nbconvert_exporter": "python",
   "pygments_lexer": "ipython3",
   "version": "3.12.7"
  }
 },
 "nbformat": 4,
 "nbformat_minor": 5
}
