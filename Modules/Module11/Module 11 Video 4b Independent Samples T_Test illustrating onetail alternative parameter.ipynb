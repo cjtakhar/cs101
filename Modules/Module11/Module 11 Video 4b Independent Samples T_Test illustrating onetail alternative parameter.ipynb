{
 "cells": [
  {
   "cell_type": "markdown",
   "metadata": {},
   "source": [
    "### Numpy Array Reshape and Independent Samples T-Test"
   ]
  },
  {
   "cell_type": "code",
   "execution_count": 1,
   "metadata": {},
   "outputs": [],
   "source": [
    "# read Excel or CSV File\n",
    "import pandas as pd\n",
    "\n",
    "# Store Columns as Arrays\n",
    "import numpy as np\n",
    "\n",
    "# Perform Independent-Samples T-Test \n",
    "from scipy.stats import ttest_ind"
   ]
  },
  {
   "cell_type": "code",
   "execution_count": 2,
   "metadata": {},
   "outputs": [],
   "source": [
    "# Load sample data file\n",
    "\n",
    "df = pd.read_csv (\"Huang Class Differences 2 samples.csv\")"
   ]
  },
  {
   "cell_type": "code",
   "execution_count": null,
   "metadata": {},
   "outputs": [],
   "source": [
    "df"
   ]
  },
  {
   "cell_type": "code",
   "execution_count": 3,
   "metadata": {},
   "outputs": [],
   "source": [
    "# Convert df to Numpy Array\n",
    "\n",
    "ScoreArray=np.array(df[\"Score\"])"
   ]
  },
  {
   "cell_type": "code",
   "execution_count": 4,
   "metadata": {},
   "outputs": [
    {
     "name": "stdout",
     "output_type": "stream",
     "text": [
      "[88 91 86 92 89 94 87 91 93 88 84 86 86 89 88 90 82 92 85 87 92 95 87 94\n",
      " 86 99 90 93 99 90 85 85 88 96 88 94 88 95 89 86]\n",
      "(40,)\n"
     ]
    }
   ],
   "source": [
    "print(ScoreArray)\n",
    "print(ScoreArray.shape)\n",
    "    \n"
   ]
  },
  {
   "cell_type": "code",
   "execution_count": 5,
   "metadata": {},
   "outputs": [],
   "source": [
    "# Reshape Numpy Array\n",
    "\n",
    "ScoreArr = ScoreArray.reshape(2,20) \n"
   ]
  },
  {
   "cell_type": "code",
   "execution_count": 6,
   "metadata": {},
   "outputs": [
    {
     "name": "stdout",
     "output_type": "stream",
     "text": [
      "[[88 91 86 92 89 94 87 91 93 88 84 86 86 89 88 90 82 92 85 87]\n",
      " [92 95 87 94 86 99 90 93 99 90 85 85 88 96 88 94 88 95 89 86]]\n"
     ]
    }
   ],
   "source": [
    "print(ScoreArr)"
   ]
  },
  {
   "cell_type": "code",
   "execution_count": 7,
   "metadata": {},
   "outputs": [],
   "source": [
    "# Determine Equal Variance by testing if (the Larger Stand Deviation / the smaller Standard Deviation) > 2\n",
    "# Assume equal variance unless (the Larger Stand Deviation / the smaller Standard Deviation) > 2\n",
    "\n",
    "EqualVar = True\n",
    "if ScoreArr[0].std() > ScoreArr[1].std():\n",
    "    if (ScoreArr[0].std() / ScoreArr[1].std()) > 2:\n",
    "        EqualVar = False\n",
    "else:\n",
    "    if (ScoreArr[1].std() / ScoreArr[0].std()) > 2:\n",
    "        EqualVar = False"
   ]
  },
  {
   "cell_type": "code",
   "execution_count": 8,
   "metadata": {},
   "outputs": [
    {
     "name": "stdout",
     "output_type": "stream",
     "text": [
      "Ttest_indResult(statistic=-2.0861878286815307, pvalue=0.9781370617723124)\n"
     ]
    }
   ],
   "source": [
    "# Obtain T-Stat and Pvalue \n",
    "# Testing if online students perform better than the inPerson Students\n",
    "SampleT = ttest_ind(ScoreArr[0], ScoreArr[1], equal_var=EqualVar, alternative = 'greater')      \n",
    "print (SampleT)"
   ]
  },
  {
   "cell_type": "code",
   "execution_count": 9,
   "metadata": {},
   "outputs": [
    {
     "data": {
      "text/plain": [
       "0.9781370617723124"
      ]
     },
     "execution_count": 9,
     "metadata": {},
     "output_type": "execute_result"
    }
   ],
   "source": [
    "SampleT.pvalue"
   ]
  }
 ],
 "metadata": {
  "kernelspec": {
   "display_name": "Python 3 (ipykernel)",
   "language": "python",
   "name": "python3"
  },
  "language_info": {
   "codemirror_mode": {
    "name": "ipython",
    "version": 3
   },
   "file_extension": ".py",
   "mimetype": "text/x-python",
   "name": "python",
   "nbconvert_exporter": "python",
   "pygments_lexer": "ipython3",
   "version": "3.9.7"
  }
 },
 "nbformat": 4,
 "nbformat_minor": 2
}
