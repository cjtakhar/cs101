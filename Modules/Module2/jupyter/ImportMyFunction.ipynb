{
 "cells": [
  {
   "cell_type": "code",
   "execution_count": 14,
   "id": "8e1f5f75-fe70-40cb-a170-8ebe6bf02447",
   "metadata": {},
   "outputs": [
    {
     "name": "stdin",
     "output_type": "stream",
     "text": [
      "Enter integer number for base 4\n",
      "Enter positive number integer for exponent 4\n"
     ]
    },
    {
     "name": "stdout",
     "output_type": "stream",
     "text": [
      "4 ^ 4 = 256\n"
     ]
    }
   ],
   "source": [
    "import MyMathFunction\n",
    "\n",
    "base = input(\"Enter integer number for base\")\n",
    "exp = input(\"Enter positive number integer for exponent\")\n",
    "\n",
    "base = int(base)\n",
    "exp = int(exp)\n",
    "\n",
    "eresult = MyMathFunction.exponent(base, exp)\n",
    "\n",
    "print(base, \"^\", exp, \"=\", eresult)"
   ]
  },
  {
   "cell_type": "code",
   "execution_count": null,
   "id": "d9b1ad80-0454-4139-b4c4-b2883e7bb761",
   "metadata": {},
   "outputs": [],
   "source": []
  }
 ],
 "metadata": {
  "kernelspec": {
   "display_name": "Python [conda env:base] *",
   "language": "python",
   "name": "conda-base-py"
  },
  "language_info": {
   "codemirror_mode": {
    "name": "ipython",
    "version": 3
   },
   "file_extension": ".py",
   "mimetype": "text/x-python",
   "name": "python",
   "nbconvert_exporter": "python",
   "pygments_lexer": "ipython3",
   "version": "3.12.7"
  }
 },
 "nbformat": 4,
 "nbformat_minor": 5
}
