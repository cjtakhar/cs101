{
 "cells": [
  {
   "cell_type": "code",
   "execution_count": 1,
   "metadata": {},
   "outputs": [],
   "source": [
    "import mysql.connector as sq\n",
    "\n",
    "mydb=sq.connect(host=\"localhost\",user=\"root\",passwd=\"ucla\", buffered=True)\n",
    "# mydb=sq.MySQLConnection(host=\"localhost\",user=\"root\",passwd=\"ucla\", buffered=True)\n",
    "# mydb=sq.connect(host=\"localhost\",user=\"root\",passwd=\"ucla\")\n",
    "\n"
   ]
  },
  {
   "cell_type": "code",
   "execution_count": 2,
   "metadata": {},
   "outputs": [],
   "source": [
    "mycursor = mydb.cursor()"
   ]
  },
  {
   "cell_type": "code",
   "execution_count": 3,
   "metadata": {},
   "outputs": [],
   "source": [
    "\n",
    "mycursor.execute('CREATE DATABASE IF NOT EXISTS PyDB1000')"
   ]
  },
  {
   "cell_type": "code",
   "execution_count": 4,
   "metadata": {},
   "outputs": [],
   "source": [
    "mycursor.execute(\"CREATE TABLE PyDB1000.PyTABLE (id int not null, name text not null, salary float not null, primary key(id))\")"
   ]
  },
  {
   "cell_type": "code",
   "execution_count": null,
   "metadata": {},
   "outputs": [],
   "source": [
    "# mycursor.execute(\"INSERT INTO PyDB1000.PyTABLE (id, name, salary)VALUES    (100,'John Hall',12300.55)\")\n",
    "# mycursor.execute(\"INSERT INTO PyDB1000.PyTABLE (id, name, salary)VALUES(101,'John Smith',10300.15)\")\n",
    "# mycursor.execute(\"INSERT INTO PyDB1000.PyTABLE (id, name, salary)VALUES(102,'Susan Jones',11500.57)\")"
   ]
  },
  {
   "cell_type": "code",
   "execution_count": 5,
   "metadata": {},
   "outputs": [],
   "source": [
    "SQLCMD = \"INSERT INTO PyDB1000.PyTABLE (id, name, salary)VALUES(%s,%s,%s)\"\n",
    "values = [(100,'John Hall',12300.55),(101,'John Smith',10300.15),(102,'Susan Jones',11500.57)]   "
   ]
  },
  {
   "cell_type": "code",
   "execution_count": 6,
   "metadata": {},
   "outputs": [],
   "source": [
    "mycursor.executemany(SQLCMD, values)"
   ]
  },
  {
   "cell_type": "code",
   "execution_count": 7,
   "metadata": {},
   "outputs": [],
   "source": [
    "mydb.commit()"
   ]
  },
  {
   "cell_type": "code",
   "execution_count": 8,
   "metadata": {},
   "outputs": [],
   "source": [
    "mycursor.execute('SHOW DATABASES')"
   ]
  },
  {
   "cell_type": "code",
   "execution_count": 9,
   "metadata": {},
   "outputs": [
    {
     "name": "stdout",
     "output_type": "stream",
     "text": [
      "[('cookies',), ('db1004',), ('information_schema',), ('mydemo',), ('mysql',), ('mystore',), ('mystore2',), ('nj_teachers1',), ('nj_teachers2',), ('nj_teachers_salaries_db',), ('performance_schema',), ('property',), ('pydb1000',), ('sakila',), ('supercookiesstore',), ('sys',), ('world',)]\n"
     ]
    }
   ],
   "source": [
    "all=mycursor.fetchall()\n",
    "print(all)"
   ]
  },
  {
   "cell_type": "code",
   "execution_count": 11,
   "metadata": {},
   "outputs": [
    {
     "name": "stdout",
     "output_type": "stream",
     "text": [
      "(100, 'John Hall', 12300.5)\n",
      "(101, 'John Smith', 10300.2)\n",
      "(102, 'Susan Jones', 11500.6)\n"
     ]
    }
   ],
   "source": [
    "for db in mycursor:\n",
    "    print (db)"
   ]
  },
  {
   "cell_type": "code",
   "execution_count": 10,
   "metadata": {},
   "outputs": [],
   "source": [
    "mycursor.execute(\"SELECT * FROM PyDB1000.PyTABLE\")"
   ]
  },
  {
   "cell_type": "code",
   "execution_count": 12,
   "metadata": {},
   "outputs": [
    {
     "data": {
      "text/plain": [
       "True"
      ]
     },
     "execution_count": 12,
     "metadata": {},
     "output_type": "execute_result"
    }
   ],
   "source": [
    "mycursor.close()"
   ]
  },
  {
   "cell_type": "code",
   "execution_count": null,
   "metadata": {},
   "outputs": [],
   "source": [
    "mycursor.execute('SHOW DATABASES')"
   ]
  },
  {
   "cell_type": "code",
   "execution_count": null,
   "metadata": {},
   "outputs": [],
   "source": [
    "result"
   ]
  }
 ],
 "metadata": {
  "kernelspec": {
   "display_name": "Python 3 (ipykernel)",
   "language": "python",
   "name": "python3"
  },
  "language_info": {
   "codemirror_mode": {
    "name": "ipython",
    "version": 3
   },
   "file_extension": ".py",
   "mimetype": "text/x-python",
   "name": "python",
   "nbconvert_exporter": "python",
   "pygments_lexer": "ipython3",
   "version": "3.11.3"
  }
 },
 "nbformat": 4,
 "nbformat_minor": 4
}
