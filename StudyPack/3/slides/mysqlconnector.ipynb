{
 "cells": [
  {
   "cell_type": "code",
   "execution_count": 2,
   "id": "ea3c8a2d-99bc-430a-b6a3-70dac72a86b8",
   "metadata": {},
   "outputs": [
    {
     "name": "stdout",
     "output_type": "stream",
     "text": [
      "('information_schema',)\n",
      "('mysql',)\n",
      "('mystore',)\n",
      "('performance_schema',)\n",
      "('PyDB',)\n",
      "('sys',)\n"
     ]
    }
   ],
   "source": [
    "import mysql.connector as sq\n",
    "mydb=sq.connect(host=\"localhost\",user=\"root\",passwd=\"takhar35\",buffered=True)\n",
    "mycursor=mydb.cursor()\n",
    "mycursor.execute(\"SHOW DATABASES\")\n",
    "for db in mycursor:\n",
    "    print (db)"
   ]
  },
  {
   "cell_type": "code",
   "execution_count": 12,
   "id": "143077d5-ffb8-405a-8595-8bebdb98fb2d",
   "metadata": {},
   "outputs": [],
   "source": [
    "mycursor.execute('CREATE DATABASE PyDB')\n",
    "mycursor.execute('CREATE TABLE PyDB.PyTABLE (id int not null, name text not null, salary float not null, primary key(id))') "
   ]
  },
  {
   "cell_type": "code",
   "execution_count": 14,
   "id": "707360cc-34a1-425d-97e7-9e95e7e79183",
   "metadata": {},
   "outputs": [],
   "source": [
    "SQLCMD = 'INSERT INTO PyDB.PyTABLE (id, name, salary) VALUES(%s,%s,%s)'\n",
    "values = [(100, 'John Hall', 12300.55),(101,'John Smith', 10300.15), (102, 'Susan Jones', 11500.57)]"
   ]
  },
  {
   "cell_type": "code",
   "execution_count": 16,
   "id": "06f248dd-d820-4780-9def-b6236ba59b5d",
   "metadata": {},
   "outputs": [],
   "source": [
    "mycursor.executemany(SQLCMD, values)"
   ]
  },
  {
   "cell_type": "code",
   "execution_count": 18,
   "id": "4f77ed46-ce89-4c87-84e8-4c6fbcaffb54",
   "metadata": {},
   "outputs": [],
   "source": [
    "mydb.commit()"
   ]
  },
  {
   "cell_type": "code",
   "execution_count": 20,
   "id": "6dd23c58-a07e-4d9f-b59c-f62325ebad6d",
   "metadata": {},
   "outputs": [],
   "source": [
    "mycursor.execute('SHOW DATABASES')"
   ]
  },
  {
   "cell_type": "code",
   "execution_count": 8,
   "id": "2ac1d47b-4898-49ed-9a29-4245adf06c44",
   "metadata": {},
   "outputs": [],
   "source": [
    "for db in mycursor:\n",
    "    print(db)"
   ]
  },
  {
   "cell_type": "code",
   "execution_count": null,
   "id": "af7d1caa-bf5b-47bd-83b2-a7ca3ac10094",
   "metadata": {},
   "outputs": [],
   "source": []
  }
 ],
 "metadata": {
  "kernelspec": {
   "display_name": "Python [conda env:base] *",
   "language": "python",
   "name": "conda-base-py"
  },
  "language_info": {
   "codemirror_mode": {
    "name": "ipython",
    "version": 3
   },
   "file_extension": ".py",
   "mimetype": "text/x-python",
   "name": "python",
   "nbconvert_exporter": "python",
   "pygments_lexer": "ipython3",
   "version": "3.12.7"
  }
 },
 "nbformat": 4,
 "nbformat_minor": 5
}
